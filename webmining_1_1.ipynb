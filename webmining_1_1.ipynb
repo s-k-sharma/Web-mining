{
  "nbformat": 4,
  "nbformat_minor": 0,
  "metadata": {
    "colab": {
      "name": "webmining_1_1.ipynb",
      "provenance": [],
      "authorship_tag": "ABX9TyPpCP9TbQDLghTRk+UizvN6",
      "include_colab_link": true
    },
    "kernelspec": {
      "name": "python3",
      "display_name": "Python 3"
    }
  },
  "cells": [
    {
      "cell_type": "markdown",
      "metadata": {
        "id": "view-in-github",
        "colab_type": "text"
      },
      "source": [
        "<a href=\"https://colab.research.google.com/github/skssushil/Web-mining/blob/master/webmining_1_1.ipynb\" target=\"_parent\"><img src=\"https://colab.research.google.com/assets/colab-badge.svg\" alt=\"Open In Colab\"/></a>"
      ]
    },
    {
      "cell_type": "code",
      "metadata": {
        "id": "UCXLjx-a_Fq3",
        "colab_type": "code",
        "colab": {}
      },
      "source": [
        "import re\n",
        "import requests"
      ],
      "execution_count": 2,
      "outputs": []
    },
    {
      "cell_type": "code",
      "metadata": {
        "id": "8vSvbLVT_O7b",
        "colab_type": "code",
        "colab": {}
      },
      "source": [
        "url = 'http://www.jnu.ac.in/iha_admin'"
      ],
      "execution_count": 3,
      "outputs": []
    },
    {
      "cell_type": "code",
      "metadata": {
        "id": "eOQXXmwK_ZVd",
        "colab_type": "code",
        "colab": {}
      },
      "source": [
        "s = 'Hello from shubhamg199630@gmail.com to priya91@yahoo.com abou dsn,nsdkkjnsk  kdsnklmlsdksd ksknsk t the meeting @2PM +918286454652 +916446464655 sjkhsidhi@fjid.com +91 593256252 njhj 04/03/1994'"
      ],
      "execution_count": 4,
      "outputs": []
    },
    {
      "cell_type": "code",
      "metadata": {
        "id": "MzE2ae_u_c5m",
        "colab_type": "code",
        "colab": {}
      },
      "source": [
        "def get_doc(url):\n",
        "    raw = requests.get(url).text\n",
        "    return raw"
      ],
      "execution_count": 5,
      "outputs": []
    },
    {
      "cell_type": "code",
      "metadata": {
        "id": "Hblfu65K_mT3",
        "colab_type": "code",
        "colab": {}
      },
      "source": [
        "data = get_doc(url)"
      ],
      "execution_count": 6,
      "outputs": []
    },
    {
      "cell_type": "code",
      "metadata": {
        "id": "g21PYetM_xIV",
        "colab_type": "code",
        "colab": {}
      },
      "source": [
        "email=re.findall(r\"[\\w.]+@[\\w.]+\",data)"
      ],
      "execution_count": 7,
      "outputs": []
    },
    {
      "cell_type": "code",
      "metadata": {
        "id": "BgAWWI4dAIPZ",
        "colab_type": "code",
        "colab": {}
      },
      "source": [
        "mob_num = re.compile(r'(\\+91)([0-9]{10})')   #(r'\\+[-()\\s\\d]+?(?=\\s*[+<]) re.compile(r'^PY\\s+(\\d{4})', re.M)\n",
        "mob_list=re.findall(mob_num,s)"
      ],
      "execution_count": 8,
      "outputs": []
    },
    {
      "cell_type": "code",
      "metadata": {
        "id": "VGBsg_iFAKl8",
        "colab_type": "code",
        "colab": {}
      },
      "source": [
        "find_date=re.compile(r'(\\d{2}).(\\d{2}).(\\d{4})')\n",
        "dob_list = re.findall(find_date, data)"
      ],
      "execution_count": 9,
      "outputs": []
    },
    {
      "cell_type": "code",
      "metadata": {
        "id": "YX80bcfvALAi",
        "colab_type": "code",
        "colab": {
          "base_uri": "https://localhost:8080/",
          "height": 54
        },
        "outputId": "17435734-2dd4-4cca-f26b-457bedb00fe7"
      },
      "source": [
        "print(*email)"
      ],
      "execution_count": 10,
      "outputs": [
        {
          "output_type": "stream",
          "text": [
            "dean_students@jnu.ac.in dean_students@jnu.ac.in sudheer@jnu.ac.in sudheer@jnu.ac.in reenanainwal@mail.jnu.ac.in reenanainwal@mail.jnu.ac.in reenanainwal@gmail.com reenanainwal@gmail.com vandanamishra@mail.jnu.ac.in vandanamishra@mail.jnu.ac.in vmishra.du@gmail.com vmishra.du@gmail.com tmohanty@mail.jnu.ac.in tmohanty@mail.jnu.ac.in tanujajnu@gmail.com tanujajnu@gmail.com b.singh.jnu@gmail.com b.singh.jnu@gmail.com buddhasingh@mail.jnu.ac.in buddhasingh@mail.jnu.ac.in dr_iha@mail.jnu.ac.in dr_iha@mail.jnu.ac.in naveenkumardam@gmail.com naveenkumardam@gmail.com paulrajr@mail.jnu.ac.in brojen@mail.jnu.ac.in neerjass@hotmail.com neerjass@hotmail.com jktripathi@mail.jnu.ac.in jktrip@yahoo.com bhaswati@mail.jnu.ac.in bhaswati@mail.jnu.ac.in kaushalkumar@mail.jnu.ac.in kaushalkumar@mail.jnu.ac.in gmeena28@yahoo.com gmeena28@yahoo.com sanjeevsharma@mail.jnu.ac.in sanjeevsharma@mail.jnu.ac.in askharat@mail.jnu.ac.in askharat@mail.jnu.ac.in saurabhsharma@mail.jnu.ac.in Garima.jnu@gmail.com garima.jnu@gmail.com arnab@jnu.ac.in arnab@jnu.ac.in arnab@mail.jnu.ac.in arnab@mail.jnu.ac.in gayettridixit@gmail.com gayettridixit@gmail.com gayettridixit@gmail.com gayettridixit@gmail.com pijussasmal@gmail.com pijussasmal@gmail.com pijus@mail.jnu.ac.in pijus@mail.jnu.ac.in skateriya@jnu.ac.in suneel77@yahoo.com neetusingh@mail.jnu.ac.in neetusingh@mail.jnu.ac.in guitemahal@gmail.com guitemahal@gmail.com rprpalpal@gmail.com rprpalpal@gmail.com reetasony@mail.jnu.ac.in aprajitakash@gmail.com sunitareddy@mail.jnu.ac.in jyotiraj.2009@gmail.com jyotiraj.2009@gmail.com amit.mishra.jnu@gmail.com amit.mishra.jnu@gmail.com sureshrjnu@gmail.com sureshrjnu@gmail.com sudhakarvaddi@mail.jnu.ac.in schand@mail.jnu.ac.in amit.kr@mail.jnu.ac.in amitkjnu@gmail.com gparihar@gmail.com gparihar@gmail.com mkbarnwal@mail.jnu.ac.in hanamanish@gmail.com brajeshvka@gmail.com brajeshvka@gmail.com sapnarshah@mail.jnu.ac.in skanaujia@mail.jnu.ac.in skanaujia@mail.jnu.ac.in punamkumari@mail.jnu.ac.in punam.hindi@gmail.com manuradha@mail.jnu.ac.in manuradha@mail.jnu.ac.in pranavkumar@mail.jnu.ac.in malkhansingh@mail.jnu.ac.in sheetal@mail.jnu.ac.in shrutiagnihotri@mail.jnu.ac.in ray.saumyajit@gmail.com ray.saumyajit@gmail.com mehtavys@gmail.com mehtavys@gmail.com mazharassam@gmail.com mazharassam@gmail.com nshreeniwas@gmail.com nshreeniwas@gmail.com kumar.pravesh27@gmail.com kumar.pravesh27@gmail.com rahulraj@mail.jnu.ac.in dnpandey@mail.jnu.ac.in gajendra@mail.jnu.ac.in gajendra@mail.jnu.ac.in b.singh.jnu@gmail.com b.singh.jnu@gmail.com buddhasingh@mail.jnu.ac.in buddhasingh@mail.jnu.ac.in bnprasad@mail.jnu.ac.in bp2628@yahoo.com tapanbihari@mail.jnu.ac.in tapanbihari@mail.jnu.ac.in sneha@mail.jnu.ac.in snehabhagat.jnu@gmail.com ramovatarmeena@mail.jnu.ac.in prakashsahoo@mail.jnu.ac.in rajyadav@mail.jnu.ac.in joshiansh@gmail.com joshiansh@gmail.com radhagayathri@gmail.com radhagayathri@gmail.com partima@mail.jnu.ac.in partima@mail.jnu.ac.in kavitaarora@mail.jnu.ac.in kavitaarora@mail.jnu.ac.in jaikhlong@mail.jnu.ac.in Jaikh.basumatary@gmail.com Jaikh.basumatary@gmail.com mmunde@mail.jnu.ac.in mundemanoj@gmail.com pkjoshi@mail.jnu.ac.in pkjoshi@mail.jnu.ac.in pkjoshi27@hotmail.com pkjoshi27@hotmail.com asheeshkumar@mail.jnu.ac.in varthyadishore@gmail.com varthyadishore@gmail.com bansal.abhisheka@gmail.com bansal.abhisheka@gmail.com pm@mail.jnu.ac.in pm@mail.jnu.ac.in pm@jnu.ac.in pm@jnu.ac.in majmal@mail.jnu.ac.in majmal@mail.jnu.ac.in anuja@mail.jnu.ac.in anuja@mail.jnu.ac.in sneh@mail.jnu.ac.in sneh@mail.jnu.ac.in sneh10@hotmail.com sneh10@hotmail.com tvvijaykumar@hotmail.com tvvijaykumar@hotmail.com tvvk@mail.jnu.ac.in tvvk@mail.jnu.ac.in amit.kr@mail.jnu.ac.in amitkjnu@gmail.com syadav@mail.jnu.ac.in punamkumari@mail.jnu.ac.in saumyajitray@mail.jnu.ac.in ray.saumyajit@gmail.com amitmishra@mail.jnu.ac.in vkishore@mail.jnu.ac.in anshujoshi@mail.jnu.ac.in rahulraj@mail.jnu.ac.in jaikhlong@mail.jnu.ac.in reetasony@mail.jnu.ac.in gopalram@mail.jnu.ac.in rkyadav@mail.jnu.ac.in\n"
          ],
          "name": "stdout"
        }
      ]
    },
    {
      "cell_type": "code",
      "metadata": {
        "id": "KKY8qfQ_APN3",
        "colab_type": "code",
        "colab": {
          "base_uri": "https://localhost:8080/",
          "height": 34
        },
        "outputId": "3b789c35-5089-4a92-97f0-3a170162adfc"
      },
      "source": [
        "print(*mob_list)\n"
      ],
      "execution_count": 11,
      "outputs": [
        {
          "output_type": "stream",
          "text": [
            "('+91', '8286454652') ('+91', '6446464655')\n"
          ],
          "name": "stdout"
        }
      ]
    },
    {
      "cell_type": "code",
      "metadata": {
        "id": "KUPo2FO6AQ0l",
        "colab_type": "code",
        "colab": {
          "base_uri": "https://localhost:8080/",
          "height": 54
        },
        "outputId": "fb433d53-1217-40e7-f708-fb0f1f2668d9"
      },
      "source": [
        "print(*dob_list)"
      ],
      "execution_count": 12,
      "outputs": [
        {
          "output_type": "stream",
          "text": [
            "('15', '51', '5109') ('24', '06', '2020') ('23', '06', '2022') ('24', '06', '2020') ('23', '06', '2022') ('15', '05', '2020') ('14', '05', '2022') ('24', '06', '2020') ('23', '06', '2022') ('09', '12', '2018') ('08', '12', '2020') ('96', '02', '0776') ('06', '06', '2019') ('05', '06', '2021') ('14', '11', '2018') ('15', '11', '2020') ('09', '04', '2020') ('08', '04', '2022') ('16', '02', '2020') ('15', '02', '2022') ('17', '02', '2020') ('16', '02', '2020') ('99', '35', '6031') ('10', '04', '2020') ('09', '04', '2022') ('07', '11', '2018') ('06', '11', '2020') ('17', '02', '2020') ('16', '02', '2022') ('17', '02', '2020') ('16', '02', '2022') ('98', '93', '3964') ('90', '32', '4596') ('11', '11', '2018') ('10', '11', '2020') ('14', '08', '2018') ('13', '08', '2020') ('99', '13', '7097') ('99', '99', '2937') ('06', '06', '2019') ('06', '06', '2021') ('12', '04', '2018') ('11', '04', '2020') ('13', '03', '2020') ('12', '03', '2022') ('11', '04', '2020') ('10', '04', '2022') ('01', '08', '2018') ('31', '07', '2020') ('04', '11', '2019') ('03', '02', '2020') ('17', '02', '2020') ('16', '02', '2022') ('98', '13', '7883') ('97', '42', '4990') ('10', '04', '2020') ('09', '04', '2022') ('18', '04', '2020') ('17', '04', '2021') ('17', '02', '2020') ('16', '02', '2022') ('01', '08', '2018') ('31', '07', '2020') ('06', '12', '2019') ('05', '12', '2021') ('10', '04', '2020') ('09', '04', '2022') ('08', '04', '2019') ('07', '04', '2021') ('02', '08', '2019') ('01', '08', '2021') ('99', '01', '2535') ('01', '08', '2018') ('31', '07', '2020') ('03', '09', '2019') ('02', '09', '2021') ('01', '08', '2018') ('31', '07', '2020') ('12', '04', '2020') ('11', '04', '2022') ('98', '16', '5127') ('21', '08', '2018') ('20', '08', '2020') ('21', '08', '2018') ('20', '08', '2020') ('01', '10', '2019') ('31', '03', '2020') ('17', '02', '2020') ('16', '02', '2022') ('99', '80', '0548') ('01', '07', '2019') ('30', '06', '2021') ('01', '03', '2020') ('28', '02', '2022') ('20', '12', '2019') ('19', '12', '2021') ('99', '16', '4757') ('98', '92', '9126') ('10', '04', '2020') ('09', '04', '2022') ('10', '04', '2020') ('09', '04', '2022') ('01', '03', '2019') ('28', '02', '2021') ('17', '02', '2020') ('16', '02', '2022') ('02', '08', '2019') ('01', '08', '2021') ('03', '08', '2019') ('02', '08', '2021') ('13', '08', '2018') ('12', '08', '2020') ('29', '08', '2019') ('28', '08', '2021') ('99', '02', '6263') ('99', '35', '2796') ('05', '11', '2019') ('04', '11', '2021') ('11', '04', '2020') ('10', '04', '2022') ('01', '11', '2018') ('31', '10', '2020') ('27', '10', '2018') ('26', '10', '2020') ('81', '03', '6011') ('23', '10', '2019') ('22', '10', '2021') ('23', '09', '2018') ('22', '09', '2020') ('12', '05', '2019') ('11', '05', '2021') ('01', '09', '2019') ('31', '08', '2020') ('90', '34', '9931') ('19', '04', '2019') ('18', '04', '2021') ('99', '03', '7820') ('98', '89', '1924') ('19', '04', '2020') ('18', '04', '2022') ('07', '11', '2018') ('06', '11', '2020') ('01', '11', '2018') ('31', '10', '2020') ('20', '12', '2019') ('19', '12', '2021') ('99', '13', '8170') ('16', '06', '2019') ('15', '06', '2021') ('01', '10', '2018') ('30', '09', '2020') ('01', '06', '2019') ('31', '05', '2021') ('13', '04', '2020') ('12', '04', '2022') ('15', '10', '2019') ('14', '04', '2020') ('15', '04', '2019') ('99', '97', '3721') ('70', '13', '2469') ('99', '86', '7020') ('95', '04', '5780') ('98', '99', '8250') ('97', '13', '9663') ('27', '11', '2019') ('26', '11', '2021') ('18', '01', '2020') ('17', '01', '2022') ('18', '10', '2018') ('17', '10', '2020') ('21', '11', '2019') ('20', '11', '2021') ('11', '96', '0748') ('55', '89', '2003')\n"
          ],
          "name": "stdout"
        }
      ]
    },
    {
      "cell_type": "code",
      "metadata": {
        "id": "EruVgip4ARde",
        "colab_type": "code",
        "colab": {}
      },
      "source": [
        ""
      ],
      "execution_count": 12,
      "outputs": []
    }
  ]
}