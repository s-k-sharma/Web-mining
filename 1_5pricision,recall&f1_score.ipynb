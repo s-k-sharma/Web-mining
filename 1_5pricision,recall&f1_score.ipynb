{
  "nbformat": 4,
  "nbformat_minor": 0,
  "metadata": {
    "colab": {
      "name": "1_5pricision,recall&f1-score.ipynb",
      "provenance": [],
      "collapsed_sections": [],
      "authorship_tag": "ABX9TyM0r+oPyZg0iP+2biK6BUW7",
      "include_colab_link": true
    },
    "kernelspec": {
      "name": "python3",
      "display_name": "Python 3"
    },
    "accelerator": "TPU"
  },
  "cells": [
    {
      "cell_type": "markdown",
      "metadata": {
        "id": "view-in-github",
        "colab_type": "text"
      },
      "source": [
        "<a href=\"https://colab.research.google.com/github/skssushil/Web-mining/blob/master/1_5pricision%2Crecall%26f1_score.ipynb\" target=\"_parent\"><img src=\"https://colab.research.google.com/assets/colab-badge.svg\" alt=\"Open In Colab\"/></a>"
      ]
    },
    {
      "cell_type": "code",
      "metadata": {
        "id": "KJ2Dn_Ugm63G",
        "colab_type": "code",
        "colab": {
          "base_uri": "https://localhost:8080/",
          "height": 102
        },
        "outputId": "4d29bf66-c491-40f5-dfbe-62ce49ea30d3"
      },
      "source": [
        "from nltk.corpus import stopwords\n",
        "from nltk.tokenize import word_tokenize\n",
        "from nltk.stem import PorterStemmer\n",
        "from collections import Counter\n",
        "import nltk,os,string,copy,pickle,re,math\n",
        "import numpy as np\n",
        "import pandas as pd\n",
        "import warnings\n",
        "nltk.download('stopwords')\n",
        "nltk.download('punkt')"
      ],
      "execution_count": 1,
      "outputs": [
        {
          "output_type": "stream",
          "text": [
            "[nltk_data] Downloading package stopwords to /root/nltk_data...\n",
            "[nltk_data]   Unzipping corpora/stopwords.zip.\n",
            "[nltk_data] Downloading package punkt to /root/nltk_data...\n",
            "[nltk_data]   Unzipping tokenizers/punkt.zip.\n"
          ],
          "name": "stdout"
        },
        {
          "output_type": "execute_result",
          "data": {
            "text/plain": [
              "True"
            ]
          },
          "metadata": {
            "tags": []
          },
          "execution_count": 1
        }
      ]
    },
    {
      "cell_type": "code",
      "metadata": {
        "id": "o2E9xPzNt42H",
        "colab_type": "code",
        "colab": {}
      },
      "source": [
        "import io\n",
        "with open('CISI.ALL') as f:\n",
        "    lines = \"\"\n",
        "    for l in f.readlines():\n",
        "        lines += \"\\n\" + l.strip() if l.startswith(\".\") else \" \" + l.strip()\n",
        "    lines = lines.lstrip(\"\\n\").split(\"\\n\")"
      ],
      "execution_count": 2,
      "outputs": []
    },
    {
      "cell_type": "code",
      "metadata": {
        "id": "a4Vo3nYeAvYc",
        "colab_type": "code",
        "colab": {}
      },
      "source": [
        "doc_set = {}\n",
        "doc_id = \"\"\n",
        "doc_text = \"\"\n",
        "for l in lines:\n",
        "    if l.startswith(\".I\"):\n",
        "        doc_id = l.split(\" \")[1].strip()\n",
        "    elif l.startswith(\".X\"):\n",
        "        doc_set[doc_id] = doc_text.lstrip(\" \")\n",
        "        doc_id = \"\"\n",
        "        doc_text = \"\"\n",
        "    else:\n",
        "        doc_text += l.strip()[3:] + \" \" # The first 3 characters of a line can be ignored."
      ],
      "execution_count": 3,
      "outputs": []
    },
    {
      "cell_type": "code",
      "metadata": {
        "id": "I7YgzHGAAzKy",
        "colab_type": "code",
        "colab": {}
      },
      "source": [
        "dataset = []\n",
        "for i in doc_set.values():\n",
        "  dataset.append(i)"
      ],
      "execution_count": 4,
      "outputs": []
    },
    {
      "cell_type": "code",
      "metadata": {
        "id": "JXOkYCobA1tP",
        "colab_type": "code",
        "colab": {
          "base_uri": "https://localhost:8080/",
          "height": 34
        },
        "outputId": "709bd308-0bc9-42a2-d417-a6dd1d68bef2"
      },
      "source": [
        "N=len(dataset)\n",
        "print(N)"
      ],
      "execution_count": 5,
      "outputs": [
        {
          "output_type": "stream",
          "text": [
            "1460\n"
          ],
          "name": "stdout"
        }
      ]
    },
    {
      "cell_type": "code",
      "metadata": {
        "id": "Sg3g9zzMA4YO",
        "colab_type": "code",
        "colab": {}
      },
      "source": [
        "import io\n",
        "with open('CISI.QRY') as g:\n",
        "    qlines = \"\"\n",
        "    for m in g.readlines():\n",
        "        qlines += \"\\n\" + m.strip() if m.startswith(\".\") else \" \" + m.strip()\n",
        "    qlines = qlines.lstrip(\"\\n\").split(\"\\n\")"
      ],
      "execution_count": 6,
      "outputs": []
    },
    {
      "cell_type": "code",
      "metadata": {
        "id": "Hu7_OkktA6sA",
        "colab_type": "code",
        "colab": {}
      },
      "source": [
        "qry_set = {}\n",
        "qry_id = \"\"\n",
        "qry_text=\"\"\n",
        "for m in qlines:\n",
        "    if m.startswith(\".I\"):\n",
        "        qry_id = m.split(\" \")[1].strip()\n",
        "    elif m.startswith(\".W\"):\n",
        "        qry_set[qry_id] = m.strip()[3:]\n",
        "        qry_id = \"\"\n",
        "squery=qry_set[\"100\"]"
      ],
      "execution_count": 7,
      "outputs": []
    },
    {
      "cell_type": "code",
      "metadata": {
        "id": "x-yHeVP9BHyh",
        "colab_type": "code",
        "colab": {}
      },
      "source": [
        "def convert_lower_case(data):\n",
        "    return np.char.lower(data)"
      ],
      "execution_count": 8,
      "outputs": []
    },
    {
      "cell_type": "code",
      "metadata": {
        "id": "J2H5E1wsBJ4T",
        "colab_type": "code",
        "colab": {}
      },
      "source": [
        "def remove_stop_words(data):\n",
        "    stop_words = stopwords.words('english')\n",
        "    words = word_tokenize(str(data))\n",
        "    new_text = \"\"\n",
        "    for w in words:\n",
        "        if w not in stop_words and len(w) > 1:\n",
        "            new_text = new_text + \" \" + w\n",
        "    return new_text"
      ],
      "execution_count": 9,
      "outputs": []
    },
    {
      "cell_type": "code",
      "metadata": {
        "id": "w4DZZdOwBQas",
        "colab_type": "code",
        "colab": {}
      },
      "source": [
        "def remove_punctuation(data):\n",
        "    symbols = \"!\\\"#$%&()*+-./:;<=>?@[\\]^_`{|}~\\n\"\n",
        "    for i in range(len(symbols)):\n",
        "        data = np.char.replace(data, symbols[i], ' ')\n",
        "        data = np.char.replace(data, \"  \", \" \")\n",
        "    data = np.char.replace(data, ',', '')\n",
        "    return data"
      ],
      "execution_count": 10,
      "outputs": []
    },
    {
      "cell_type": "code",
      "metadata": {
        "id": "mb-m0739BVV-",
        "colab_type": "code",
        "colab": {}
      },
      "source": [
        "def remove_apostrophe(data):\n",
        "    return np.char.replace(data, \"'\", \"\")"
      ],
      "execution_count": 11,
      "outputs": []
    },
    {
      "cell_type": "code",
      "metadata": {
        "id": "aNdvVvkPBXrN",
        "colab_type": "code",
        "colab": {}
      },
      "source": [
        "def stemming(data):\n",
        "    stemmer= PorterStemmer()\n",
        "    \n",
        "    tokens = word_tokenize(str(data))\n",
        "    new_text = \"\"\n",
        "    for w in tokens:\n",
        "        new_text = new_text + \" \" + stemmer.stem(w)\n",
        "    return new_text"
      ],
      "execution_count": 12,
      "outputs": []
    },
    {
      "cell_type": "code",
      "metadata": {
        "id": "g_UJ1thUBhlX",
        "colab_type": "code",
        "colab": {}
      },
      "source": [
        "import inflect \n",
        "p = inflect.engine()   \n",
        "# convert number into words \n",
        "def convert_number(text): \n",
        "  temp_str = text.split() \n",
        "  new_string = []  \n",
        "  for word in temp_str:\n",
        "    if word.isdigit(): \n",
        "      temp = p.number_to_words(word) \n",
        "      new_string.append(temp) \n",
        "    else:\n",
        "      new_string.append(word) \n",
        "      temp_str = ' '.join(new_string) \n",
        "  return temp_str "
      ],
      "execution_count": 14,
      "outputs": []
    },
    {
      "cell_type": "code",
      "metadata": {
        "id": "FVvUO67VBkHE",
        "colab_type": "code",
        "colab": {}
      },
      "source": [
        "def preprocess(data):\n",
        "    data = convert_lower_case(data)\n",
        "    data = remove_punctuation(data) #remove comma seperately\n",
        "    data = remove_apostrophe(data)\n",
        "    data = remove_stop_words(data)\n",
        "    data = stemming(data)\n",
        "    data = remove_punctuation(data)\n",
        "    data = stemming(data) #needed again as we need to stem the words\n",
        "    data = remove_punctuation(data) #needed again as num2word is giving few hypens and commas fourty-one\n",
        "    data = remove_stop_words(data) #needed again as num2word is giving stop words 101 - one hundred and one\n",
        "    return data"
      ],
      "execution_count": 16,
      "outputs": []
    },
    {
      "cell_type": "code",
      "metadata": {
        "id": "0RelxXMVBmr0",
        "colab_type": "code",
        "colab": {}
      },
      "source": [
        "processed_text = []\n",
        "for i in dataset[:N]:\n",
        "    processed_text.append(word_tokenize(str(preprocess(convert_number(i)))))"
      ],
      "execution_count": 17,
      "outputs": []
    },
    {
      "cell_type": "code",
      "metadata": {
        "id": "0Iw1I2oZBpPd",
        "colab_type": "code",
        "colab": {}
      },
      "source": [
        "DF = {}\n",
        "for i in range(N):\n",
        "    tokens = processed_text[i]\n",
        "    for w in tokens:\n",
        "        try:\n",
        "            DF[w].add(i)\n",
        "        except:\n",
        "            DF[w] = {i}\n",
        "for i in DF:\n",
        "    DF[i] = len(DF[i])"
      ],
      "execution_count": 18,
      "outputs": []
    },
    {
      "cell_type": "code",
      "metadata": {
        "id": "-ZcEz1qMCZ_C",
        "colab_type": "code",
        "colab": {
          "base_uri": "https://localhost:8080/",
          "height": 34
        },
        "outputId": "a2531e85-7692-4ab4-dce2-f96384b51de4"
      },
      "source": [
        "total_vocab_size = len(DF)\n",
        "print(total_vocab_size)"
      ],
      "execution_count": 19,
      "outputs": [
        {
          "output_type": "stream",
          "text": [
            "7024\n"
          ],
          "name": "stdout"
        }
      ]
    },
    {
      "cell_type": "code",
      "metadata": {
        "id": "-ea5ZUE_Cfrx",
        "colab_type": "code",
        "colab": {}
      },
      "source": [
        "total_vocab = [x for x in DF]"
      ],
      "execution_count": 20,
      "outputs": []
    },
    {
      "cell_type": "code",
      "metadata": {
        "id": "t8ycZ8miCh82",
        "colab_type": "code",
        "colab": {
          "base_uri": "https://localhost:8080/",
          "height": 54
        },
        "outputId": "0f90a728-fe53-4df9-ab8a-827f4cef4070"
      },
      "source": [
        "print(total_vocab[:20])"
      ],
      "execution_count": 21,
      "outputs": [
        {
          "output_type": "stream",
          "text": [
            "['eighteen', 'edit', 'dewey', 'decim', 'classif', 'comaromi', 'present', 'studi', 'histori', 'first', 'ddc', 'publish', '1876', 'eighteenth', '1971', 'futur', 'continu', 'appear', 'need', 'spite']\n"
          ],
          "name": "stdout"
        }
      ]
    },
    {
      "cell_type": "code",
      "metadata": {
        "id": "QJFpxRQFCkQo",
        "colab_type": "code",
        "colab": {}
      },
      "source": [
        "def doc_freq(word):\n",
        "    c = 0\n",
        "    try:\n",
        "        c = DF[word]\n",
        "    except:\n",
        "        pass\n",
        "    return c"
      ],
      "execution_count": 22,
      "outputs": []
    },
    {
      "cell_type": "code",
      "metadata": {
        "id": "AyyrLRs5CsXo",
        "colab_type": "code",
        "colab": {}
      },
      "source": [
        "doc = 0\n",
        "tf_idf = {}\n",
        "for i in range(N):    \n",
        "    tokens = processed_text[i]    \n",
        "    counter = Counter(tokens)\n",
        "    words_count = len(tokens)    \n",
        "    for token in np.unique(tokens):        \n",
        "        tf = counter[token]/words_count\n",
        "        df = doc_freq(token)\n",
        "        idf = np.log((N+1)/(df+1))        \n",
        "        tf_idf[doc, token] = tf*idf\n",
        "    doc += 1"
      ],
      "execution_count": 23,
      "outputs": []
    },
    {
      "cell_type": "code",
      "metadata": {
        "id": "De-1mkasCuZU",
        "colab_type": "code",
        "colab": {}
      },
      "source": [
        "doc = 0\n",
        "tf_idf = {}\n",
        "for i in range(N):    \n",
        "    tokens = processed_text[i]    \n",
        "    counter = Counter(tokens)\n",
        "    words_count = len(tokens)    \n",
        "    for token in np.unique(tokens):        \n",
        "        tf = counter[token]/words_count\n",
        "        df = doc_freq(token)\n",
        "        idf = np.log((N+1)/(df+1))        \n",
        "        tf_idf[doc, token] = tf*idf\n",
        "    doc += 1"
      ],
      "execution_count": 24,
      "outputs": []
    },
    {
      "cell_type": "code",
      "metadata": {
        "id": "ettXBLIlCw-s",
        "colab_type": "code",
        "colab": {}
      },
      "source": [
        "def cosine_sim(a, b):\n",
        "    cos_sim = np.dot(a, b)/(np.linalg.norm(a)*np.linalg.norm(b))\n",
        "    return cos_sim"
      ],
      "execution_count": 25,
      "outputs": []
    },
    {
      "cell_type": "code",
      "metadata": {
        "id": "mo7kCBmlC0Hg",
        "colab_type": "code",
        "colab": {}
      },
      "source": [
        "D = np.zeros((N, total_vocab_size))\n",
        "for i in tf_idf:\n",
        "    try:\n",
        "        ind = total_vocab.index(i[1])\n",
        "        D[i[0]][ind] = tf_idf[i]\n",
        "    except:\n",
        "        pass"
      ],
      "execution_count": 26,
      "outputs": []
    },
    {
      "cell_type": "code",
      "metadata": {
        "id": "XlCvqKXgC23j",
        "colab_type": "code",
        "colab": {}
      },
      "source": [
        "def gen_vector(tokens):\n",
        "    Q = np.zeros((len(total_vocab)))\n",
        "    counter = Counter(tokens)\n",
        "    words_count = len(tokens)\n",
        "    query_weights = {}\n",
        "    for token in np.unique(tokens):   \n",
        "        tf = counter[token]/words_count\n",
        "        df = doc_freq(token)\n",
        "        idf = math.log((N+1)/(df+1))\n",
        "        try:\n",
        "            ind = total_vocab.index(token)\n",
        "            Q[ind] = tf*idf\n",
        "        except:\n",
        "            pass\n",
        "    return Q"
      ],
      "execution_count": 27,
      "outputs": []
    },
    {
      "cell_type": "code",
      "metadata": {
        "id": "vagokoWKC5f5",
        "colab_type": "code",
        "colab": {}
      },
      "source": [
        "def cosine_similarity(query):\n",
        "    relevent=0\n",
        "    d_id=[]\n",
        "    print(\"Cosine Similarity\")\n",
        "    preprocessed_query = preprocess(query)\n",
        "    tokens = word_tokenize(str(preprocessed_query))\n",
        "    print(\"\\nQuery:\", query)\n",
        "    print(\"\")\n",
        "    #print(tokens)\n",
        "    d_cosines = []\n",
        "    query_vector = gen_vector(tokens)\n",
        "    for d in D:\n",
        "        d_cosines.append(cosine_sim(query_vector, d))\n",
        "    for i in d_cosines:\n",
        "      if i>=.15:\n",
        "        relevent+=1\n",
        "        d_id.append(d_cosines.index(i))\n",
        "    d_id.append(relevent)\n",
        "    return d_id\n",
        "\n",
        "    "
      ],
      "execution_count": 28,
      "outputs": []
    },
    {
      "cell_type": "code",
      "metadata": {
        "id": "ICwY6OfnV4Le",
        "colab_type": "code",
        "colab": {}
      },
      "source": [
        "def ranking(query):\n",
        "    preprocessed_query = preprocess(query)\n",
        "    tokens = word_tokenize(str(preprocessed_query))\n",
        "    d_cosines = []\n",
        "    query_vector = gen_vector(tokens)\n",
        "    for d in D:\n",
        "        d_cosines.append(cosine_sim(query_vector, d))\n",
        "    out = np.array(d_cosines)\n",
        "    return out\n"
      ],
      "execution_count": 29,
      "outputs": []
    },
    {
      "cell_type": "code",
      "metadata": {
        "id": "UTCDmla0DfIp",
        "colab_type": "code",
        "colab": {
          "base_uri": "https://localhost:8080/",
          "height": 105
        },
        "outputId": "72b598d1-34a2-4a7f-b51f-e93623ffca90"
      },
      "source": [
        "relevent_doc=cosine_similarity(squery)\n",
        "no_relevent_doc=relevent_doc[-1]\n",
        "relevent_doc=relevent_doc[:-1]"
      ],
      "execution_count": 30,
      "outputs": [
        {
          "output_type": "stream",
          "text": [
            "Cosine Similarity\n",
            "\n",
            "Query: This paper notes the benefits accruing from interaction between computerized retrieval systems and micrographic retrieval systems.  It reviews current state of automated micrographic retrieval technology.  The conclusion is that with a combination of advances in communications technology, and sophisticated indexing input from libraries and information scientists, the new generation of automated micrographs devices may constitute the on-line document retrieval systems of the future.\n",
            "\n"
          ],
          "name": "stdout"
        }
      ]
    },
    {
      "cell_type": "code",
      "metadata": {
        "id": "huJ4j83AEGNP",
        "colab_type": "code",
        "colab": {
          "base_uri": "https://localhost:8080/",
          "height": 51
        },
        "outputId": "9c9937c4-c19f-489a-cac9-86353cbce692"
      },
      "source": [
        "print(no_relevent_doc)\n",
        "print(relevent_doc)"
      ],
      "execution_count": 31,
      "outputs": [
        {
          "output_type": "stream",
          "text": [
            "6\n",
            "[179, 335, 374, 375, 915, 1135]\n"
          ],
          "name": "stdout"
        }
      ]
    },
    {
      "cell_type": "code",
      "metadata": {
        "id": "ZtZl4qzBEbmy",
        "colab_type": "code",
        "colab": {}
      },
      "source": [
        "ranking_doc=ranking(squery)"
      ],
      "execution_count": 32,
      "outputs": []
    },
    {
      "cell_type": "markdown",
      "metadata": {
        "id": "cMWfy-qyXzoS",
        "colab_type": "text"
      },
      "source": [
        "precision and recall at each rank position"
      ]
    },
    {
      "cell_type": "code",
      "metadata": {
        "id": "4dWC--Z5X6XR",
        "colab_type": "code",
        "colab": {
          "base_uri": "https://localhost:8080/",
          "height": 34
        },
        "outputId": "133ccdd7-0f02-4e49-91c0-c3eea621dc98"
      },
      "source": [
        "print(len(ranking_doc))\n",
        "l=len(ranking_doc)"
      ],
      "execution_count": 33,
      "outputs": [
        {
          "output_type": "stream",
          "text": [
            "1460\n"
          ],
          "name": "stdout"
        }
      ]
    },
    {
      "cell_type": "code",
      "metadata": {
        "id": "9gm5H4bIYL1w",
        "colab_type": "code",
        "colab": {}
      },
      "source": [
        "p=np.zeros((l,4))"
      ],
      "execution_count": 34,
      "outputs": []
    },
    {
      "cell_type": "code",
      "metadata": {
        "id": "YZvNUPR_ZU7F",
        "colab_type": "code",
        "colab": {
          "base_uri": "https://localhost:8080/",
          "height": 51
        },
        "outputId": "401e8974-a944-466c-9a11-a2b0934b219f"
      },
      "source": [
        "print(p.shape)\n",
        "x=np.array([ranking_doc])\n",
        "y=np.array(range(0,l))\n",
        "print(x)"
      ],
      "execution_count": 35,
      "outputs": [
        {
          "output_type": "stream",
          "text": [
            "(1460, 4)\n",
            "[[0.011408   0.03800724 0.00154378 ... 0.05774267 0.01907854 0.06474764]]\n"
          ],
          "name": "stdout"
        }
      ]
    },
    {
      "cell_type": "code",
      "metadata": {
        "id": "ws6eVg9nZl_z",
        "colab_type": "code",
        "colab": {}
      },
      "source": [
        "p[:,0]=y"
      ],
      "execution_count": 36,
      "outputs": []
    },
    {
      "cell_type": "code",
      "metadata": {
        "id": "4jDF9JtE_g7r",
        "colab_type": "code",
        "colab": {
          "base_uri": "https://localhost:8080/",
          "height": 34
        },
        "outputId": "758506c4-ccc7-43f0-a447-de68e7fe996a"
      },
      "source": [
        "print(relevent_doc)\n",
        "if 37 in relevent_doc:\n",
        "  print(\"yes\")"
      ],
      "execution_count": 37,
      "outputs": [
        {
          "output_type": "stream",
          "text": [
            "[179, 335, 374, 375, 915, 1135]\n"
          ],
          "name": "stdout"
        }
      ]
    },
    {
      "cell_type": "code",
      "metadata": {
        "id": "iIkb8SYRalcE",
        "colab_type": "code",
        "colab": {
          "base_uri": "https://localhost:8080/",
          "height": 34
        },
        "outputId": "23a4ab49-68cc-4505-b60a-a66d206b6cc1"
      },
      "source": [
        "for i in range(l):\n",
        "  if p[i][0] in relevent_doc:\n",
        "    p[i][1]= 1\n",
        "  else:\n",
        "    p[i][1]= -1\n",
        "print(p[37])"
      ],
      "execution_count": 38,
      "outputs": [
        {
          "output_type": "stream",
          "text": [
            "[37. -1.  0.  0.]\n"
          ],
          "name": "stdout"
        }
      ]
    },
    {
      "cell_type": "code",
      "metadata": {
        "id": "JwKutlMjdJj2",
        "colab_type": "code",
        "colab": {}
      },
      "source": [
        "count=0\n",
        "cn=0\n",
        "for i in range(l):\n",
        "  if p[i][1]==1:\n",
        "    cn=cn+1\n",
        "    count=count+1\n",
        "    p[i][2]= (cn/count)*100\n",
        "  else:\n",
        "    count=count+1\n",
        "    p[i][2]= (cn/count)*100"
      ],
      "execution_count": 39,
      "outputs": []
    },
    {
      "cell_type": "code",
      "metadata": {
        "id": "tAqJz_kdu0qJ",
        "colab_type": "code",
        "colab": {
          "base_uri": "https://localhost:8080/",
          "height": 34
        },
        "outputId": "94574c01-ca73-4217-ed9b-d5ac8aa4df6d"
      },
      "source": [
        "rc=0\n",
        "print(no_relevent_doc)\n",
        "for i in range(l):\n",
        "  if p[i][1]==1:\n",
        "    rc=rc+1\n",
        "    p[i][3]= (rc/no_relevent_doc)*100\n",
        "  else:\n",
        "    p[i][3]= (rc/no_relevent_doc)*100"
      ],
      "execution_count": 40,
      "outputs": [
        {
          "output_type": "stream",
          "text": [
            "6\n"
          ],
          "name": "stdout"
        }
      ]
    },
    {
      "cell_type": "code",
      "metadata": {
        "id": "n0Fepz-Uz49_",
        "colab_type": "code",
        "colab": {
          "base_uri": "https://localhost:8080/",
          "height": 34
        },
        "outputId": "9f1ec981-c9fd-4815-dd60-6ca0b949b51f"
      },
      "source": [
        "pr=[]\n",
        "for i in relevent_doc:\n",
        " pr.append(p[i][2])\n",
        "avg_pr=sum(pr)/no_relevent_doc\n",
        "print(\" Average Precision \",avg_pr,\" % \")"
      ],
      "execution_count": 41,
      "outputs": [
        {
          "output_type": "stream",
          "text": [
            " Average Precision  0.68144066341608  % \n"
          ],
          "name": "stdout"
        }
      ]
    },
    {
      "cell_type": "code",
      "metadata": {
        "id": "1DkLfBI0-qnF",
        "colab_type": "code",
        "colab": {}
      },
      "source": [
        "#p=p[p[:,2].argsort()[::-1]]"
      ],
      "execution_count": 42,
      "outputs": []
    },
    {
      "cell_type": "code",
      "metadata": {
        "id": "luCi4SUJD4ub",
        "colab_type": "code",
        "colab": {
          "base_uri": "https://localhost:8080/",
          "height": 136
        },
        "outputId": "4cdb2c30-2a5c-4ba0-bfdf-a8a98279e1c8"
      },
      "source": [
        "#np.set_printoptions(suppress=True)\n",
        "print(p)"
      ],
      "execution_count": 43,
      "outputs": [
        {
          "output_type": "stream",
          "text": [
            "[[ 0.00000000e+00 -1.00000000e+00  0.00000000e+00  0.00000000e+00]\n",
            " [ 1.00000000e+00 -1.00000000e+00  0.00000000e+00  0.00000000e+00]\n",
            " [ 2.00000000e+00 -1.00000000e+00  0.00000000e+00  0.00000000e+00]\n",
            " ...\n",
            " [ 1.45700000e+03 -1.00000000e+00  4.11522634e-01  1.00000000e+02]\n",
            " [ 1.45800000e+03 -1.00000000e+00  4.11240576e-01  1.00000000e+02]\n",
            " [ 1.45900000e+03 -1.00000000e+00  4.10958904e-01  1.00000000e+02]]\n"
          ],
          "name": "stdout"
        }
      ]
    },
    {
      "cell_type": "code",
      "metadata": {
        "id": "H4d5jEE5204I",
        "colab_type": "code",
        "colab": {}
      },
      "source": [
        "x=p[:,2]\n",
        "y=p[:,3]"
      ],
      "execution_count": 44,
      "outputs": []
    },
    {
      "cell_type": "code",
      "metadata": {
        "id": "oU-s6z8Fw5Mo",
        "colab_type": "code",
        "colab": {
          "base_uri": "https://localhost:8080/",
          "height": 279
        },
        "outputId": "f490cfbe-d882-45fe-b88b-14b59ff7afd0"
      },
      "source": [
        "import matplotlib.pyplot as plt\n",
        "plt.xlabel('Precision % ')\n",
        "plt.ylabel('Recall % ')\n",
        "plt.plot(x, y);\n",
        "plt.show;\n"
      ],
      "execution_count": 47,
      "outputs": [
        {
          "output_type": "display_data",
          "data": {
            "image/png": "[encoded data removed]",
            "text/plain": [
              "<Figure size 432x288 with 1 Axes>"
            ]
          },
          "metadata": {
            "tags": [],
            "needs_background": "light"
          }
        }
      ]
    },
    {
      "cell_type": "markdown",
      "metadata": {
        "id": "GJnIjiDuLP0o",
        "colab_type": "text"
      },
      "source": [
        "F-Measure = (2 * Precision * Recall) / (Precision + Recall)"
      ]
    },
    {
      "cell_type": "code",
      "metadata": {
        "id": "B9XAzMnFLQrv",
        "colab_type": "code",
        "colab": {
          "base_uri": "https://localhost:8080/",
          "height": 51
        },
        "outputId": "aed6b928-38a9-47cb-dade-754254cd6256"
      },
      "source": [
        "import math\n",
        "f_score=[]\n",
        "for i in range(l):\n",
        "  f=(2*p[i][2]*p[i][2])/(p[i][2]+p[i][2])\n",
        "  f_score.append(f)\n",
        "for i in range(l):\n",
        "  if math.isnan(f_score[i]):\n",
        "    f_score[i]=0"
      ],
      "execution_count": 48,
      "outputs": [
        {
          "output_type": "stream",
          "text": [
            "/usr/local/lib/python3.6/dist-packages/ipykernel_launcher.py:4: RuntimeWarning: invalid value encountered in double_scalars\n",
            "  after removing the cwd from sys.path.\n"
          ],
          "name": "stderr"
        }
      ]
    },
    {
      "cell_type": "code",
      "metadata": {
        "id": "KsPsPfDwL1Pg",
        "colab_type": "code",
        "colab": {
          "base_uri": "https://localhost:8080/",
          "height": 54
        },
        "outputId": "78ae0cf4-766a-4287-8579-4a214748ddc5"
      },
      "source": [
        "f_score.sort(reverse = True)\n",
        "print(f_score[:50])"
      ],
      "execution_count": 49,
      "outputs": [
        {
          "output_type": "stream",
          "text": [
            "[1.0638297872340425, 1.0610079575596816, 1.0582010582010581, 1.0554089709762533, 1.0526315789473684, 1.0498687664041995, 1.0471204188481675, 1.0443864229765014, 1.0416666666666665, 1.0389610389610389, 1.0362694300518136, 1.03359173126615, 1.0309278350515463, 1.0282776349614395, 1.0256410256410255, 1.0230179028132993, 1.0204081632653061, 1.0178117048346056, 1.015228426395939, 1.0126582278481013, 1.0101010101010102, 1.0075566750629723, 1.0050251256281406, 1.0025062656641603, 1.0, 0.997506234413965, 0.9950248756218906, 0.9925558312655087, 0.9900990099009901, 0.9876543209876543, 0.9852216748768473, 0.9828009828009828, 0.9803921568627451, 0.9779951100244498, 0.975609756097561, 0.9732360097323601, 0.9708737864077669, 0.9685230024213075, 0.966183574879227, 0.9638554216867471, 0.9615384615384616, 0.9592326139088728, 0.9569377990430622, 0.9546539379474941, 0.9523809523809524, 0.9501187648456058, 0.9478672985781991, 0.9456264775413712, 0.9433962264150944, 0.9411764705882352]\n"
          ],
          "name": "stdout"
        }
      ]
    },
    {
      "cell_type": "code",
      "metadata": {
        "id": "UzbOEuGJL9Pp",
        "colab_type": "code",
        "colab": {
          "base_uri": "https://localhost:8080/",
          "height": 279
        },
        "outputId": "78afe3b4-149f-4dd5-c601-9c28bf2b42a5"
      },
      "source": [
        "import matplotlib.pyplot as plt\n",
        "plt.plot(x,f_score)\n",
        "plt.xlabel('Precision % ')\n",
        "plt.ylabel('F_score % ')\n",
        "plt.show;"
      ],
      "execution_count": 51,
      "outputs": [
        {
          "output_type": "display_data",
          "data": {
            "image/png": "[encoded data removed]",
            "text/plain": [
              "<Figure size 432x288 with 1 Axes>"
            ]
          },
          "metadata": {
            "tags": [],
            "needs_background": "light"
          }
        }
      ]
    }
  ]
}