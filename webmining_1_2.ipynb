{
  "nbformat": 4,
  "nbformat_minor": 0,
  "metadata": {
    "colab": {
      "name": "webmining_1_2.ipynb",
      "provenance": [],
      "authorship_tag": "ABX9TyP7KkqesN9VNc74pyFhEygs",
      "include_colab_link": true
    },
    "kernelspec": {
      "name": "python3",
      "display_name": "Python 3"
    }
  },
  "cells": [
    {
      "cell_type": "markdown",
      "metadata": {
        "id": "view-in-github",
        "colab_type": "text"
      },
      "source": [
        "<a href=\"https://colab.research.google.com/github/skssushil/Web-mining/blob/master/webmining_1_2.ipynb\" target=\"_parent\"><img src=\"https://colab.research.google.com/assets/colab-badge.svg\" alt=\"Open In Colab\"/></a>"
      ]
    },
    {
      "cell_type": "code",
      "metadata": {
        "id": "oKW9-d1rCmtz",
        "colab_type": "code",
        "colab": {
          "base_uri": "https://localhost:8080/",
          "height": 119
        },
        "outputId": "0e863ec1-19fe-4060-ef32-2ec862b783ad"
      },
      "source": [
        "import nltk\n",
        "import re\n",
        "from nltk import bigrams\n",
        "nltk.download('punkt')\n",
        "nltk.download('averaged_perceptron_tagger')"
      ],
      "execution_count": 1,
      "outputs": [
        {
          "output_type": "stream",
          "text": [
            "[nltk_data] Downloading package punkt to /root/nltk_data...\n",
            "[nltk_data]   Unzipping tokenizers/punkt.zip.\n",
            "[nltk_data] Downloading package averaged_perceptron_tagger to\n",
            "[nltk_data]     /root/nltk_data...\n",
            "[nltk_data]   Unzipping taggers/averaged_perceptron_tagger.zip.\n"
          ],
          "name": "stdout"
        },
        {
          "output_type": "execute_result",
          "data": {
            "text/plain": [
              "True"
            ]
          },
          "metadata": {
            "tags": []
          },
          "execution_count": 1
        }
      ]
    },
    {
      "cell_type": "code",
      "metadata": {
        "id": "FN9JDJeVDxgJ",
        "colab_type": "code",
        "colab": {}
      },
      "source": [
        "text1 = []"
      ],
      "execution_count": 2,
      "outputs": []
    },
    {
      "cell_type": "code",
      "metadata": {
        "id": "4P1GnCfZD26F",
        "colab_type": "code",
        "colab": {}
      },
      "source": [
        "with open('text',mode='r') as file:\n",
        "  text1 = file.read()"
      ],
      "execution_count": 4,
      "outputs": []
    },
    {
      "cell_type": "code",
      "metadata": {
        "id": "epMqJ0QND-8V",
        "colab_type": "code",
        "colab": {}
      },
      "source": [
        "def remove_string_special_characters(s):\n",
        "  # removes special characters with ' '\n",
        "  stripped = re.sub('[^a-zA-z\\s]', '', s)\n",
        "  stripped = re.sub('_', '', stripped)\n",
        "  stripped = re.sub(r\"[-()\\\"#/@;:<>{}`+=~|.!?,]\", \"\", s)\n",
        "  # Change any white space to one space\n",
        "  stripped = re.sub('\\s+', ' ', stripped)\n",
        "  # Remove start and end white spaces\n",
        "  stripped = stripped.strip()\n",
        "  if stripped != '':\n",
        "    return stripped.lower()"
      ],
      "execution_count": 5,
      "outputs": []
    },
    {
      "cell_type": "code",
      "metadata": {
        "id": "mrHMiHA6EXdq",
        "colab_type": "code",
        "colab": {}
      },
      "source": [
        "text1=remove_string_special_characters(text1)"
      ],
      "execution_count": 6,
      "outputs": []
    },
    {
      "cell_type": "code",
      "metadata": {
        "id": "zc4NLBrQEbUG",
        "colab_type": "code",
        "colab": {}
      },
      "source": [
        "tokens = nltk.word_tokenize(text1)"
      ],
      "execution_count": 7,
      "outputs": []
    },
    {
      "cell_type": "code",
      "metadata": {
        "id": "cs-nQlPWEhUM",
        "colab_type": "code",
        "colab": {}
      },
      "source": [
        "bigram=list(bigrams(tokens))"
      ],
      "execution_count": 8,
      "outputs": []
    },
    {
      "cell_type": "code",
      "metadata": {
        "id": "mjXg6Ay3ErM0",
        "colab_type": "code",
        "colab": {}
      },
      "source": [
        "bi_count={}\n",
        "for token in bigram:\n",
        "  if token not in bi_count:\n",
        "    bi_count[token] = 1\n",
        "  else:\n",
        "    bi_count[token] += 1"
      ],
      "execution_count": 9,
      "outputs": []
    },
    {
      "cell_type": "code",
      "metadata": {
        "id": "KD3vWwv8FBJD",
        "colab_type": "code",
        "colab": {}
      },
      "source": [
        "a=sorted(bi_count.items(), key=lambda x: x[1], reverse=True)"
      ],
      "execution_count": 10,
      "outputs": []
    },
    {
      "cell_type": "code",
      "metadata": {
        "id": "dzmscx7u1Wvx",
        "colab_type": "code",
        "colab": {
          "base_uri": "https://localhost:8080/",
          "height": 357
        },
        "outputId": "fdae1796-673f-4d33-ad4c-d11489678b12"
      },
      "source": [
        "a[:20]"
      ],
      "execution_count": 16,
      "outputs": [
        {
          "output_type": "execute_result",
          "data": {
            "text/plain": [
              "[(('of', 'the'), 19),\n",
              " (('natural', 'language'), 18),\n",
              " (('such', 'as'), 15),\n",
              " (('in', 'the'), 13),\n",
              " (('of', 'a'), 13),\n",
              " (('language', 'processing'), 12),\n",
              " (('machine', 'translation'), 9),\n",
              " (('is', 'a'), 9),\n",
              " (('given', 'a'), 8),\n",
              " (('of', 'text'), 8),\n",
              " (('based', 'on'), 7),\n",
              " (('chunk', 'of'), 7),\n",
              " (('can', 'be'), 6),\n",
              " (('as', 'a'), 6),\n",
              " (('for', 'example'), 6),\n",
              " (('handwritten', 'rules'), 6),\n",
              " (('a', 'chunk'), 6),\n",
              " (('to', 'the'), 5),\n",
              " (('machine', 'learning'), 5),\n",
              " (('some', 'of'), 5)]"
            ]
          },
          "metadata": {
            "tags": []
          },
          "execution_count": 16
        }
      ]
    },
    {
      "cell_type": "code",
      "metadata": {
        "id": "r57RySyUFKXc",
        "colab_type": "code",
        "colab": {
          "base_uri": "https://localhost:8080/",
          "height": 34
        },
        "outputId": "d408a332-92b4-47be-bbe5-20a9a4f76746"
      },
      "source": [
        "count=len(bi_count)\n",
        "print(\"Total no of bi gram is \",count)"
      ],
      "execution_count": 17,
      "outputs": [
        {
          "output_type": "stream",
          "text": [
            "Total no of bi gram is  2224\n"
          ],
          "name": "stdout"
        }
      ]
    },
    {
      "cell_type": "code",
      "metadata": {
        "id": "aOxZtMJHFQeo",
        "colab_type": "code",
        "colab": {}
      },
      "source": [
        "p={}\n",
        "for i in range(count):\n",
        "  p[i]=(a[i][1])/count"
      ],
      "execution_count": 18,
      "outputs": []
    },
    {
      "cell_type": "code",
      "metadata": {
        "id": "nE25TqiuFW5i",
        "colab_type": "code",
        "colab": {
          "base_uri": "https://localhost:8080/",
          "height": 187
        },
        "outputId": "288dbe94-2de4-495b-e610-2cf9f99707df"
      },
      "source": [
        "for i in range(10):\n",
        "  print(a[i],\"Probability of occurrence of Bigram\",round(p[i],5))"
      ],
      "execution_count": 19,
      "outputs": [
        {
          "output_type": "stream",
          "text": [
            "(('of', 'the'), 19) Probability of occurrence of Bigram 0.00854\n",
            "(('natural', 'language'), 18) Probability of occurrence of Bigram 0.00809\n",
            "(('such', 'as'), 15) Probability of occurrence of Bigram 0.00674\n",
            "(('in', 'the'), 13) Probability of occurrence of Bigram 0.00585\n",
            "(('of', 'a'), 13) Probability of occurrence of Bigram 0.00585\n",
            "(('language', 'processing'), 12) Probability of occurrence of Bigram 0.0054\n",
            "(('machine', 'translation'), 9) Probability of occurrence of Bigram 0.00405\n",
            "(('is', 'a'), 9) Probability of occurrence of Bigram 0.00405\n",
            "(('given', 'a'), 8) Probability of occurrence of Bigram 0.0036\n",
            "(('of', 'text'), 8) Probability of occurrence of Bigram 0.0036\n"
          ],
          "name": "stdout"
        }
      ]
    },
    {
      "cell_type": "code",
      "metadata": {
        "id": "t4_i8xl1FZGw",
        "colab_type": "code",
        "colab": {}
      },
      "source": [
        "tag = nltk.pos_tag(tokens)"
      ],
      "execution_count": 20,
      "outputs": []
    },
    {
      "cell_type": "code",
      "metadata": {
        "id": "QSeDq1guF622",
        "colab_type": "code",
        "colab": {}
      },
      "source": [
        "grammar = \"NP: {<DT>?<JJ>*<NN>}\"\n",
        "cp=nltk.RegexpParser(grammar)\n",
        "result = cp.parse(tag)"
      ],
      "execution_count": 21,
      "outputs": []
    },
    {
      "cell_type": "code",
      "metadata": {
        "id": "-gxCGXlHGILa",
        "colab_type": "code",
        "colab": {
          "base_uri": "https://localhost:8080/",
          "height": 54
        },
        "outputId": "6c550fb3-102c-4b91-a0eb-525eac548598"
      },
      "source": [
        "print(*result)"
      ],
      "execution_count": 22,
      "outputs": [
        {
          "output_type": "stream",
          "text": [
            "(NP the/DT history/NN) ('of', 'IN') (NP natural/JJ language/NN) (NP processing/NN) (NP nlp/NN) ('generally', 'RB') ('started', 'VBN') ('in', 'IN') ('the', 'DT') ('1950s', 'CD') ('although', 'IN') (NP work/NN) ('can', 'MD') ('be', 'VB') ('found', 'VBN') ('from', 'IN') ('earlier', 'JJR') ('periods', 'NNS') ('in', 'IN') ('1950', 'CD') (NP alan/NN) ('turing', 'VBG') ('published', 'VBN') (NP an/DT article/NN) ('titled', 'VBD') (NP computing/JJ machinery/NN) ('and', 'CC') (NP intelligence/NN) ('which', 'WDT') ('proposed', 'VBD') ('what', 'WP') ('is', 'VBZ') ('now', 'RB') ('called', 'VBN') ('the', 'DT') ('turing', 'VBG') (NP test/NN) ('as', 'IN') (NP a/DT criterion/NN) ('of', 'IN') (NP intelligence/NN) ('[', 'NNP') (NP clarification/NN) ('needed', 'VBD') (']', 'PDT') (NP the/DT georgetown/JJ experiment/NN) ('in', 'IN') ('1954', 'CD') ('involved', 'JJ') ('fully', 'RB') (NP automatic/JJ translation/NN) ('of', 'IN') ('more', 'JJR') ('than', 'IN') (NP sixty/NN) ('russian', 'JJ') ('sentences', 'NNS') ('into', 'IN') ('english', 'JJ') ('the', 'DT') ('authors', 'NNS') ('claimed', 'VBD') ('that', 'IN') ('within', 'IN') ('three', 'CD') ('or', 'CC') ('five', 'CD') ('years', 'NNS') (NP machine/NN) (NP translation/NN) ('would', 'MD') ('be', 'VB') (NP a/DT solved/JJ problem/NN) ('[', 'VBD') ('2', 'CD') (']', 'NNP') ('however', 'RB') (NP real/JJ progress/NN) ('was', 'VBD') ('much', 'RB') ('slower', 'JJR') ('and', 'CC') ('after', 'IN') (NP the/DT alpac/JJ report/NN) ('in', 'IN') ('1966', 'CD') ('which', 'WDT') ('found', 'VBD') ('that', 'IN') (NP tenyearlong/JJ research/NN) ('had', 'VBD') ('failed', 'VBN') ('to', 'TO') ('fulfill', 'VB') ('the', 'DT') ('expectations', 'NNS') (NP funding/NN) ('for', 'IN') (NP machine/NN) (NP translation/NN) ('was', 'VBD') ('dramatically', 'RB') ('reduced', 'VBN') (NP little/JJ further/JJ research/NN) ('in', 'IN') (NP machine/NN) (NP translation/NN) ('was', 'VBD') ('conducted', 'VBN') ('until', 'IN') ('the', 'DT') ('late', 'JJ') ('1980s', 'NNS') ('when', 'WRB') (NP the/DT first/JJ statistical/JJ machine/NN) (NP translation/NN) ('systems', 'NNS') ('were', 'VBD') ('developed', 'VBN') ('some', 'DT') ('notably', 'RB') (NP successful/JJ natural/JJ language/NN) ('processing', 'VBG') ('systems', 'NNS') ('developed', 'VBN') ('in', 'IN') ('the', 'DT') ('1960s', 'NNS') ('were', 'VBD') ('shrdlu', 'RB') (NP a/DT natural/JJ language/NN) (NP system/NN) ('working', 'VBG') ('in', 'IN') ('restricted', 'JJ') ('blocks', 'NNS') ('worlds', 'NNS') ('with', 'IN') ('restricted', 'JJ') ('vocabularies', 'NNS') ('and', 'CC') ('eliza', 'VB') (NP a/DT simulation/NN) ('of', 'IN') (NP a/DT rogerian/JJ psychotherapist/NN) ('written', 'VBN') ('by', 'IN') (NP joseph/NN) (NP weizenbaum/NN) ('between', 'IN') ('1964', 'CD') ('and', 'CC') ('1966', 'CD') ('using', 'VBG') ('almost', 'RB') (NP no/DT information/NN) ('about', 'IN') (NP human/JJ thought/NN) ('or', 'CC') (NP emotion/NN) (NP eliza/NN) ('sometimes', 'RB') ('provided', 'VBD') ('a', 'DT') ('startlingly', 'RB') (NP humanlike/JJ interaction/NN) ('when', 'WRB') (NP the/DT patient/NN) ('exceeded', 'VBD') ('the', 'DT') ('very', 'RB') (NP small/JJ knowledge/NN) (NP base/NN) (NP eliza/NN) ('might', 'MD') ('provide', 'VB') (NP a/DT generic/JJ response/NN) ('for', 'IN') (NP example/NN) ('responding', 'VBG') ('to', 'TO') ('my', 'PRP$') (NP head/NN) ('hurts', 'VBZ') ('with', 'IN') ('why', 'WRB') ('do', 'VBP') ('you', 'PRP') ('say', 'VB') ('your', 'PRP$') (NP head/NN) ('hurts', 'VBZ') ('during', 'IN') ('the', 'DT') ('1970s', 'CD') ('many', 'JJ') ('programmers', 'NNS') ('began', 'VBD') ('to', 'TO') ('write', 'VB') ('conceptual', 'JJ') ('ontologies', 'NNS') ('which', 'WDT') ('structured', 'VBD') (NP realworld/NN) (NP information/NN) ('into', 'IN') ('computerunderstandable', 'JJ') ('data', 'NNS') ('examples', 'NNS') ('are', 'VBP') ('margie', 'JJ') ('schank', 'JJ') ('1975', 'CD') (NP sam/NN) (NP cullingford/NN) ('1978', 'CD') (NP pam/NN) (NP wilensky/NN) ('1978', 'CD') (NP talespin/NN) (NP meehan/NN) ('1976', 'CD') (NP qualm/NN) ('lehnert', 'JJ') ('1977', 'CD') ('politics', 'NNS') ('carbonell', 'VBP') ('1979', 'CD') ('and', 'CC') ('plot', 'VB') ('units', 'NNS') ('lehnert', 'JJ') ('1981', 'CD') ('during', 'IN') (NP this/DT time/NN) ('many', 'JJ') ('chatterbots', 'NNS') ('were', 'VBD') ('written', 'VBN') ('including', 'VBG') (NP parry/NN) (NP racter/NN) ('and', 'CC') ('jabberwacky', 'VB') ('up', 'RB') ('to', 'TO') ('the', 'DT') ('1980s', 'CD') ('most', 'JJS') (NP natural/JJ language/NN) ('processing', 'VBG') ('systems', 'NNS') ('were', 'VBD') ('based', 'VBN') ('on', 'IN') ('complex', 'JJ') ('sets', 'NNS') ('of', 'IN') (NP handwritten/NN) ('rules', 'NNS') ('starting', 'VBG') ('in', 'IN') ('the', 'DT') ('late', 'JJ') ('1980s', 'CD') ('however', 'RB') ('there', 'EX') ('was', 'VBD') (NP a/DT revolution/NN) ('in', 'IN') (NP natural/JJ language/NN) (NP processing/NN) ('with', 'IN') (NP the/DT introduction/NN) ('of', 'IN') (NP machine/NN) (NP learning/NN) (NP algorithms/NN) ('for', 'IN') (NP language/NN) (NP processing/NN) ('this', 'DT') ('was', 'VBD') ('due', 'JJ') ('to', 'TO') ('both', 'DT') (NP the/DT steady/JJ increase/NN) ('in', 'IN') (NP computational/JJ power/NN) ('see', 'VBP') (NP moore/NN) (\"'s\", 'POS') (NP law/NN) ('and', 'CC') (NP the/DT gradual/JJ lessening/NN) ('of', 'IN') (NP the/DT dominance/NN) ('of', 'IN') ('chomskyan', 'JJ') ('theories', 'NNS') ('of', 'IN') ('linguistics', 'NNS') (NP eg/JJ transformational/JJ grammar/NN) ('whose', 'WP$') ('theoretical', 'JJ') ('underpinnings', 'NNS') ('discouraged', 'VBD') (NP the/DT sort/NN) ('of', 'IN') (NP corpus/NN) ('linguistics', 'NNS') ('that', 'WDT') ('underlies', 'VBZ') ('the', 'DT') ('machinelearning', 'VBG') (NP approach/NN) ('to', 'TO') (NP language/NN) (NP processing/NN) ('[', '$') ('3', 'CD') (']', 'NNP') ('some', 'DT') ('of', 'IN') (NP the/DT earliestused/JJ machine/NN) ('learning', 'VBG') ('algorithms', 'NNS') ('such', 'JJ') ('as', 'IN') (NP decision/NN) ('trees', 'NNS') ('produced', 'VBD') ('systems', 'NNS') ('of', 'IN') (NP hard/JJ ifthen/NN) ('rules', 'NNS') ('similar', 'JJ') ('to', 'TO') ('existing', 'VBG') (NP handwritten/NN) ('rules', 'NNS') ('however', 'RB') ('partofspeech', 'VBP') ('tagging', 'VBG') ('introduced', 'VBD') (NP the/DT use/NN) ('of', 'IN') (NP hidden/JJ markov/NN) ('models', 'NNS') ('to', 'TO') (NP natural/JJ language/NN) (NP processing/NN) ('and', 'CC') ('increasingly', 'RB') (NP research/NN) ('has', 'VBZ') ('focused', 'VBN') ('on', 'IN') ('statistical', 'JJ') ('models', 'NNS') ('which', 'WDT') ('make', 'VBP') ('soft', 'JJ') ('probabilistic', 'JJ') ('decisions', 'NNS') ('based', 'VBN') ('on', 'IN') ('attaching', 'VBG') ('realvalued', 'VBN') ('weights', 'NNS') ('to', 'TO') ('the', 'DT') ('features', 'NNS') ('making', 'VBG') ('up', 'RP') (NP the/DT input/NN) ('data', 'VBZ') (NP the/DT cache/NN) (NP language/NN) ('models', 'NNS') ('upon', 'IN') ('which', 'WDT') (NP many/JJ speech/NN) (NP recognition/NN) ('systems', 'NNS') ('now', 'RB') ('rely', 'RB') ('are', 'VBP') ('examples', 'NNS') ('of', 'IN') ('such', 'JJ') ('statistical', 'JJ') ('models', 'NNS') ('such', 'JJ') ('models', 'NNS') ('are', 'VBP') ('generally', 'RB') ('more', 'RBR') ('robust', 'JJ') ('when', 'WRB') ('given', 'VBN') (NP unfamiliar/JJ input/NN) ('especially', 'RB') ('input', 'VBD') ('that', 'IN') ('contains', 'VBZ') ('errors', 'NNS') ('as', 'IN') ('is', 'VBZ') ('very', 'RB') ('common', 'JJ') ('for', 'IN') (NP realworld/NN) ('data', 'NNS') ('and', 'CC') ('produce', 'VB') ('more', 'JJR') ('reliable', 'JJ') ('results', 'NNS') ('when', 'WRB') ('integrated', 'VBN') ('into', 'IN') ('a', 'DT') ('larger', 'JJR') (NP system/NN) ('comprising', 'VBG') ('multiple', 'JJ') ('subtasks', 'NNS') ('many', 'JJ') ('of', 'IN') ('the', 'DT') ('notable', 'JJ') ('early', 'JJ') ('successes', 'NNS') ('occurred', 'VBD') ('in', 'IN') (NP the/DT field/NN) ('of', 'IN') (NP machine/NN) (NP translation/NN) ('due', 'JJ') ('especially', 'RB') ('to', 'TO') ('work', 'VB') ('at', 'IN') (NP ibm/JJ research/NN) ('where', 'WRB') ('successively', 'RB') ('more', 'RBR') ('complicated', 'JJ') ('statistical', 'JJ') ('models', 'NNS') ('were', 'VBD') ('developed', 'VBN') ('these', 'DT') ('systems', 'NNS') ('were', 'VBD') ('able', 'JJ') ('to', 'TO') ('take', 'VB') (NP advantage/NN) ('of', 'IN') ('existing', 'VBG') (NP multilingual/JJ textual/JJ corpora/NN) ('that', 'WDT') ('had', 'VBD') ('been', 'VBN') ('produced', 'VBN') ('by', 'IN') (NP the/DT parliament/NN) ('of', 'IN') (NP canada/NN) ('and', 'CC') (NP the/DT european/JJ union/NN) ('as', 'IN') (NP a/DT result/NN) ('of', 'IN') ('laws', 'NNS') ('calling', 'VBG') ('for', 'IN') (NP the/DT translation/NN) ('of', 'IN') ('all', 'DT') ('governmental', 'JJ') ('proceedings', 'NNS') ('into', 'IN') ('all', 'DT') ('official', 'JJ') ('languages', 'NNS') ('of', 'IN') ('the', 'DT') ('corresponding', 'JJ') ('systems', 'NNS') ('of', 'IN') (NP government/NN) ('however', 'RB') ('most', 'RBS') ('other', 'JJ') ('systems', 'NNS') ('depended', 'VBN') ('on', 'IN') ('corpora', 'NNS') ('specifically', 'RB') ('developed', 'VBD') ('for', 'IN') ('the', 'DT') ('tasks', 'NNS') ('implemented', 'VBN') ('by', 'IN') ('these', 'DT') ('systems', 'NNS') ('which', 'WDT') ('was', 'VBD') ('and', 'CC') ('often', 'RB') ('continues', 'VBZ') ('to', 'TO') ('be', 'VB') (NP a/DT major/JJ limitation/NN) ('in', 'IN') (NP the/DT success/NN) ('of', 'IN') ('these', 'DT') ('systems', 'NNS') ('as', 'IN') (NP a/DT result/NN) (NP a/DT great/JJ deal/NN) ('of', 'IN') (NP research/NN) ('has', 'VBZ') ('gone', 'VBN') ('into', 'IN') ('methods', 'NNS') ('of', 'IN') ('more', 'RBR') ('effectively', 'RB') ('learning', 'VBG') ('from', 'IN') ('limited', 'JJ') ('amounts', 'NNS') ('of', 'IN') ('data', 'NNS') (NP recent/JJ research/NN) ('has', 'VBZ') ('increasingly', 'RB') ('focused', 'VBN') ('on', 'IN') ('unsupervised', 'JJ') ('and', 'CC') ('semisupervised', 'VBD') ('learning', 'VBG') ('algorithms', 'NNS') ('such', 'JJ') ('algorithms', 'NNS') ('can', 'MD') ('learn', 'VB') ('from', 'IN') ('data', 'NNS') ('that', 'WDT') ('has', 'VBZ') ('not', 'RB') ('been', 'VBN') ('handannotated', 'VBN') ('with', 'IN') ('the', 'DT') ('desired', 'JJ') ('answers', 'NNS') ('or', 'CC') ('using', 'VBG') (NP a/DT combination/NN) ('of', 'IN') ('annotated', 'JJ') ('and', 'CC') ('nonannotated', 'JJ') ('data', 'NNS') ('generally', 'RB') (NP this/DT task/NN) ('is', 'VBZ') ('much', 'RB') ('more', 'RBR') ('difficult', 'JJ') ('than', 'IN') ('supervised', 'VBN') (NP learning/NN) ('and', 'CC') ('typically', 'RB') ('produces', 'VBZ') ('less', 'JJR') ('accurate', 'JJ') ('results', 'NNS') ('for', 'IN') ('a', 'DT') ('given', 'VBN') (NP amount/NN) ('of', 'IN') (NP input/NN) ('data', 'NNS') ('however', 'RB') ('there', 'EX') ('is', 'VBZ') (NP an/DT enormous/JJ amount/NN) ('of', 'IN') ('nonannotated', 'VBN') ('data', 'NNS') ('available', 'JJ') ('including', 'VBG') ('among', 'IN') ('other', 'JJ') ('things', 'NNS') (NP the/DT entire/JJ content/NN) ('of', 'IN') (NP the/DT world/NN) (NP wide/JJ web/NN) ('which', 'WDT') ('can', 'MD') ('often', 'RB') ('make', 'VB') ('up', 'RP') ('for', 'IN') ('the', 'DT') ('inferior', 'JJ') ('results', 'NNS') ('if', 'IN') (NP the/DT algorithm/NN) ('used', 'VBN') ('has', 'VBZ') (NP a/DT low/JJ enough/JJ time/NN) (NP complexity/NN) ('to', 'TO') ('be', 'VB') ('practical', 'JJ') ('in', 'IN') ('the', 'DT') ('2010s', 'CD') (NP representation/NN) (NP learning/NN) ('and', 'CC') (NP deep/JJ neural/JJ networkstyle/JJ machine/NN) ('learning', 'VBG') ('methods', 'NNS') ('became', 'VBD') ('widespread', 'JJ') ('in', 'IN') (NP natural/JJ language/NN) (NP processing/NN) ('due', 'JJ') ('in', 'IN') (NP part/NN) ('to', 'TO') (NP a/DT flurry/NN) ('of', 'IN') ('results', 'NNS') ('showing', 'VBG') ('that', 'IN') ('such', 'JJ') ('techniques', 'NNS') ('[', 'VBP') ('4', 'CD') (']', 'NNP') ('[', 'VBD') ('5', 'CD') (']', 'NNS') ('can', 'MD') ('achieve', 'VB') ('stateoftheart', 'JJ') ('results', 'NNS') ('in', 'IN') (NP many/JJ natural/JJ language/NN) ('tasks', 'NNS') ('for', 'IN') (NP example/NN) ('in', 'IN') (NP language/NN) (NP modeling/NN) ('[', '$') ('6', 'CD') (']', 'NNP') ('parsing', 'VBG') ('[', 'RB') ('7', 'CD') (']', 'JJ') ('[', '$') ('8', 'CD') (']', 'NNP') ('and', 'CC') ('many', 'JJ') ('others', 'NNS') ('popular', 'JJ') ('techniques', 'NNS') ('include', 'VBP') (NP the/DT use/NN) ('of', 'IN') (NP word/NN) ('embeddings', 'NNS') ('to', 'TO') ('capture', 'VB') ('semantic', 'JJ') ('properties', 'NNS') ('of', 'IN') ('words', 'NNS') ('and', 'CC') (NP an/DT increase/NN) ('in', 'IN') (NP endtoend/JJ learning/NN) ('of', 'IN') (NP a/DT higherlevel/NN) (NP task/NN) (NP eg/JJ question/NN) ('answering', 'VBG') ('instead', 'RB') ('of', 'IN') ('relying', 'VBG') ('on', 'IN') (NP a/DT pipeline/NN) ('of', 'IN') ('separate', 'JJ') ('intermediate', 'JJ') ('tasks', 'NNS') ('eg', 'VBP') (NP partofspeech/JJ tagging/NN) ('and', 'CC') (NP dependency/NN) (NP parsing/NN) ('in', 'IN') ('some', 'DT') ('areas', 'NNS') (NP this/DT shift/NN) ('has', 'VBZ') ('entailed', 'VBN') ('substantial', 'JJ') ('changes', 'NNS') ('in', 'IN') ('how', 'WRB') ('nlp', 'JJ') ('systems', 'NNS') ('are', 'VBP') ('designed', 'VBN') ('such', 'JJ') ('that', 'IN') ('deep', 'JJ') ('neural', 'JJ') ('networkbased', 'JJ') ('approaches', 'NNS') ('may', 'MD') ('be', 'VB') ('viewed', 'VBN') ('as', 'IN') (NP a/DT new/JJ paradigm/NN) (NP distinct/NN) ('from', 'IN') (NP statistical/JJ natural/JJ language/NN) (NP processing/NN) ('for', 'IN') (NP instance/NN) (NP the/DT term/NN) (NP neural/JJ machine/NN) (NP translation/NN) (NP nmt/NN) ('emphasizes', 'VBZ') (NP the/DT fact/NN) ('that', 'IN') ('deep', 'JJ') ('learningbased', 'VBD') ('approaches', 'NNS') ('to', 'TO') (NP machine/NN) (NP translation/NN) ('directly', 'RB') (NP learn/JJ sequencetosequence/NN) ('transformations', 'NNS') ('obviating', 'VBG') (NP the/DT need/NN) ('for', 'IN') ('intermediate', 'JJ') ('steps', 'NNS') ('such', 'JJ') ('as', 'IN') (NP word/NN) (NP alignment/NN) ('and', 'CC') (NP language/NN) (NP modeling/NN) ('that', 'WDT') ('was', 'VBD') ('used', 'VBN') ('in', 'IN') (NP statistical/JJ machine/NN) (NP translation/NN) (NP smt/NN) ('rulebased', 'VBD') (NP vs/JJ statistical/JJ nlp/NN) ('[', 'NNP') (NP edit/NN) (NP ]/NN) ('in', 'IN') ('the', 'DT') ('early', 'JJ') ('days', 'NNS') ('many', 'JJ') ('languageprocessing', 'VBG') ('systems', 'NNS') ('were', 'VBD') ('designed', 'VBN') ('by', 'IN') ('handcoding', 'VBG') (NP a/DT set/NN) ('of', 'IN') ('rules', 'NNS') ('[', 'VBP') ('9', 'CD') (']', 'NNP') ('[', 'VBD') ('10', 'CD') (']', 'NNS') ('such', 'JJ') ('as', 'IN') ('by', 'IN') ('writing', 'VBG') ('grammars', 'NNS') ('or', 'CC') ('devising', 'VBG') ('heuristic', 'JJ') ('rules', 'NNS') ('for', 'IN') ('stemming', 'VBG') ('since', 'IN') (NP the/DT socalled/JJ statistical/JJ revolution/NN) ('[', 'VBD') ('11', 'CD') (']', 'NNP') ('[', 'VBD') ('12', 'CD') (NP ]/NN) ('in', 'IN') ('the', 'DT') ('late', 'JJ') ('1980s', 'NNS') ('and', 'CC') ('mid1990s', 'NNS') ('much', 'RB') (NP natural/JJ language/NN) (NP processing/NN) (NP research/NN) ('has', 'VBZ') ('relied', 'VBN') ('heavily', 'RB') ('on', 'IN') (NP machine/NN) ('learning', 'VBG') (NP the/DT machinelearning/NN) (NP paradigm/NN) ('calls', 'VBZ') ('instead', 'RB') ('for', 'IN') ('using', 'VBG') (NP statistical/JJ inference/NN) ('to', 'TO') ('automatically', 'RB') ('learn', 'VB') ('such', 'JJ') ('rules', 'NNS') ('through', 'IN') (NP the/DT analysis/NN) ('of', 'IN') ('large', 'JJ') ('corpora', 'VBP') (NP the/DT plural/JJ form/NN) ('of', 'IN') (NP corpus/NN) ('is', 'VBZ') (NP a/DT set/NN) ('of', 'IN') ('documents', 'NNS') ('possibly', 'RB') ('with', 'IN') (NP human/NN) ('or', 'CC') (NP computer/NN) ('annotations', 'NNS') ('of', 'IN') (NP typical/JJ realworld/NN) ('examples', 'VBZ') ('many', 'JJ') ('different', 'JJ') ('classes', 'NNS') ('of', 'IN') ('machinelearning', 'VBG') ('algorithms', 'NNS') ('have', 'VBP') ('been', 'VBN') ('applied', 'VBN') ('to', 'TO') ('naturallanguageprocessing', 'VBG') ('tasks', 'NNS') ('these', 'DT') ('algorithms', 'NNS') ('take', 'VBP') ('as', 'IN') (NP input/NN) (NP a/DT large/JJ set/NN) ('of', 'IN') ('features', 'NNS') ('that', 'WDT') ('are', 'VBP') ('generated', 'VBN') ('from', 'IN') (NP the/DT input/NN) ('data', 'VBD') ('some', 'DT') ('of', 'IN') (NP the/DT earliestused/JJ algorithms/NN) ('such', 'JJ') ('as', 'IN') (NP decision/NN) ('trees', 'NNS') ('produced', 'VBD') ('systems', 'NNS') ('of', 'IN') (NP hard/JJ ifthen/NN) ('rules', 'NNS') ('similar', 'JJ') ('to', 'TO') ('the', 'DT') ('systems', 'NNS') ('of', 'IN') ('handwritten', 'JJ') ('rules', 'NNS') ('that', 'WDT') ('were', 'VBD') ('then', 'RB') ('common', 'JJ') ('increasingly', 'RB') ('however', 'RB') (NP research/NN) ('has', 'VBZ') ('focused', 'VBN') ('on', 'IN') ('statistical', 'JJ') ('models', 'NNS') ('which', 'WDT') ('make', 'VBP') ('soft', 'JJ') ('probabilistic', 'JJ') ('decisions', 'NNS') ('based', 'VBN') ('on', 'IN') ('attaching', 'VBG') ('realvalued', 'VBN') ('weights', 'NNS') ('to', 'TO') (NP each/DT input/NN) (NP feature/NN) ('such', 'JJ') ('models', 'NNS') ('have', 'VBP') (NP the/DT advantage/NN) ('that', 'IN') ('they', 'PRP') ('can', 'MD') ('express', 'VB') (NP the/DT relative/JJ certainty/NN) ('of', 'IN') ('many', 'JJ') ('different', 'JJ') ('possible', 'JJ') ('answers', 'NNS') ('rather', 'RB') ('than', 'IN') ('only', 'RB') ('one', 'CD') ('producing', 'VBG') ('more', 'RBR') ('reliable', 'JJ') ('results', 'NNS') ('when', 'WRB') ('such', 'PDT') (NP a/DT model/NN) ('is', 'VBZ') ('included', 'VBN') ('as', 'IN') (NP a/DT component/NN) ('of', 'IN') ('a', 'DT') ('larger', 'JJR') (NP system/NN) ('systems', 'NNS') ('based', 'VBN') ('on', 'IN') ('machinelearning', 'VBG') ('algorithms', 'NNS') ('have', 'VBP') ('many', 'JJ') ('advantages', 'NNS') ('over', 'IN') ('handproduced', 'JJ') ('rules', 'NNS') (NP the/DT learning/NN) ('procedures', 'NNS') ('used', 'VBN') ('during', 'IN') (NP machine/NN) ('learning', 'VBG') ('automatically', 'RB') ('focus', 'VB') ('on', 'IN') ('the', 'DT') ('most', 'RBS') ('common', 'JJ') ('cases', 'NNS') ('whereas', 'VBP') ('when', 'WRB') ('writing', 'VBG') ('rules', 'NNS') ('by', 'IN') (NP hand/NN) ('it', 'PRP') ('is', 'VBZ') ('often', 'RB') ('not', 'RB') ('at', 'IN') ('all', 'DT') ('obvious', 'JJ') ('where', 'WRB') (NP the/DT effort/NN) ('should', 'MD') ('be', 'VB') ('directed', 'VBN') (NP automatic/JJ learning/NN) ('procedures', 'NNS') ('can', 'MD') ('make', 'VB') (NP use/NN) ('of', 'IN') (NP statistical/JJ inference/NN) (NP algorithms/NN) ('to', 'TO') ('produce', 'VB') ('models', 'NNS') ('that', 'WDT') ('are', 'VBP') ('robust', 'JJ') ('to', 'TO') (NP unfamiliar/JJ input/NN) (NP eg/NN) ('containing', 'VBG') ('words', 'NNS') ('or', 'CC') ('structures', 'NNS') ('that', 'WDT') ('have', 'VBP') ('not', 'RB') ('been', 'VBN') ('seen', 'VBN') ('before', 'RB') ('and', 'CC') ('to', 'TO') (NP erroneous/JJ input/NN) (NP eg/NN) ('with', 'IN') ('misspelled', 'JJ') ('words', 'NNS') ('or', 'CC') ('words', 'NNS') ('accidentally', 'RB') ('omitted', 'VBN') ('generally', 'RB') ('handling', 'VBG') (NP such/JJ input/NN) ('gracefully', 'RB') ('with', 'IN') ('handwritten', 'JJ') ('rules', 'NNS') ('or', 'CC') ('more', 'JJR') ('generally', 'RB') ('creating', 'VBG') ('systems', 'NNS') ('of', 'IN') ('handwritten', 'JJ') ('rules', 'NNS') ('that', 'WDT') ('make', 'VBP') ('soft', 'JJ') ('decisions', 'NNS') ('is', 'VBZ') ('extremely', 'RB') (NP difficult/JJ errorprone/NN) ('and', 'CC') ('timeconsuming', 'VBG') ('systems', 'NNS') ('based', 'VBN') ('on', 'IN') ('automatically', 'RB') ('learning', 'VBG') ('the', 'DT') ('rules', 'NNS') ('can', 'MD') ('be', 'VB') ('made', 'VBN') ('more', 'RBR') ('accurate', 'JJ') ('simply', 'RB') ('by', 'IN') ('supplying', 'VBG') ('more', 'JJR') (NP input/NN) ('data', 'NNS') ('however', 'RB') ('systems', 'NNS') ('based', 'VBN') ('on', 'IN') ('handwritten', 'NNS') ('rules', 'NNS') ('can', 'MD') ('only', 'RB') ('be', 'VB') ('made', 'VBN') ('more', 'RBR') ('accurate', 'JJ') ('by', 'IN') ('increasing', 'VBG') (NP the/DT complexity/NN) ('of', 'IN') ('the', 'DT') ('rules', 'NNS') ('which', 'WDT') ('is', 'VBZ') ('a', 'DT') ('much', 'RB') ('more', 'RBR') (NP difficult/JJ task/NN) ('in', 'IN') ('particular', 'JJ') ('there', 'EX') ('is', 'VBZ') (NP a/DT limit/NN) ('to', 'TO') (NP the/DT complexity/NN) ('of', 'IN') ('systems', 'NNS') ('based', 'VBN') ('on', 'IN') ('handcrafted', 'JJ') ('rules', 'NNS') ('beyond', 'IN') ('which', 'WDT') ('the', 'DT') ('systems', 'NNS') ('become', 'VBP') ('more', 'JJR') ('and', 'CC') ('more', 'RBR') ('unmanageable', 'JJ') ('however', 'RB') ('creating', 'VBG') ('more', 'JJR') ('data', 'NNS') ('to', 'TO') ('input', 'VB') ('to', 'TO') ('machinelearning', 'VBG') ('systems', 'NNS') ('simply', 'RB') ('requires', 'VBZ') (NP a/DT corresponding/JJ increase/NN) ('in', 'IN') (NP the/DT number/NN) ('of', 'IN') ('manhours', 'NNS') ('worked', 'VBN') ('generally', 'RB') ('without', 'IN') ('significant', 'JJ') ('increases', 'NNS') ('in', 'IN') (NP the/DT complexity/NN) ('of', 'IN') (NP the/DT annotation/NN) (NP process/NN) ('major', 'JJ') ('evaluations', 'NNS') ('and', 'CC') ('tasks', 'NNS') ('[', 'VBP') (NP edit/NN) (']', 'VBP') (NP the/DT following/NN) ('is', 'VBZ') (NP a/DT list/NN) ('of', 'IN') ('some', 'DT') ('of', 'IN') ('the', 'DT') ('most', 'RBS') ('commonly', 'RB') ('researched', 'JJ') ('tasks', 'NNS') ('in', 'IN') (NP natural/JJ language/NN) ('processing', 'VBG') ('some', 'DT') ('of', 'IN') ('these', 'DT') ('tasks', 'NNS') ('have', 'VBP') (NP direct/JJ realworld/NN) ('applications', 'NNS') ('while', 'IN') ('others', 'NNS') ('more', 'RBR') ('commonly', 'RB') ('serve', 'VBP') ('as', 'IN') ('subtasks', 'NNS') ('that', 'WDT') ('are', 'VBP') ('used', 'VBN') ('to', 'TO') ('aid', 'VB') ('in', 'IN') ('solving', 'VBG') ('larger', 'JJR') ('tasks', 'NNS') ('though', 'IN') (NP natural/JJ language/NN) (NP processing/NN) ('tasks', 'NNS') ('are', 'VBP') ('closely', 'RB') ('intertwined', 'VBN') ('they', 'PRP') ('are', 'VBP') ('frequently', 'RB') ('subdivided', 'VBN') ('into', 'IN') ('categories', 'NNS') ('for', 'IN') (NP convenience/NN) (NP a/DT coarse/JJ division/NN) ('is', 'VBZ') ('given', 'VBN') ('below', 'IN') (NP generate/NN) (NP a/DT formal/JJ grammar/NN) ('that', 'WDT') ('describes', 'VBZ') (NP a/DT language/NN) (\"'s\", 'POS') (NP syntax/JJ lemmatization/NN) (NP the/DT task/NN) ('of', 'IN') ('removing', 'VBG') ('inflectional', 'JJ') ('endings', 'NNS') ('only', 'RB') ('and', 'CC') ('to', 'TO') ('return', 'VB') (NP the/DT base/NN) (NP dictionary/JJ form/NN) ('of', 'IN') (NP a/DT word/NN) ('which', 'WDT') ('is', 'VBZ') ('also', 'RB') ('known', 'VBN') ('as', 'IN') (NP a/DT lemma/NN) ('separate', 'JJ') ('words', 'NNS') ('into', 'IN') ('individual', 'JJ') ('morphemes', 'NNS') ('and', 'CC') ('identify', 'VB') (NP the/DT class/NN) ('of', 'IN') ('the', 'DT') ('morphemes', 'NNS') (NP the/DT difficulty/NN) ('of', 'IN') (NP this/DT task/NN) ('depends', 'VBZ') ('greatly', 'RB') ('on', 'IN') (NP the/DT complexity/NN) ('of', 'IN') (NP the/DT morphology/NN) ('ie', 'VBZ') (NP the/DT structure/NN) ('of', 'IN') ('words', 'NNS') ('of', 'IN') (NP the/DT language/NN) ('being', 'VBG') ('considered', 'VBN') (NP english/NN) ('has', 'VBZ') ('fairly', 'RB') (NP simple/JJ morphology/NN) ('especially', 'RB') (NP inflectional/JJ morphology/NN) ('and', 'CC') ('thus', 'RB') ('it', 'PRP') ('is', 'VBZ') ('often', 'RB') ('possible', 'JJ') ('to', 'TO') ('ignore', 'VB') (NP this/DT task/NN) ('entirely', 'RB') ('and', 'CC') ('simply', 'RB') ('model', 'VB') ('all', 'DT') ('possible', 'JJ') ('forms', 'NNS') ('of', 'IN') (NP a/DT word/NN) (NP eg/NN) ('open', 'JJ') ('opens', 'NNS') ('opened', 'VBD') ('opening', 'VBG') ('as', 'IN') ('separate', 'JJ') ('words', 'NNS') ('in', 'IN') ('languages', 'NNS') ('such', 'JJ') ('as', 'IN') ('turkish', 'JJ') ('or', 'CC') ('meitei', 'JJ') ('[', 'JJ') ('14', 'CD') (']', 'PDT') ('a', 'DT') ('highly', 'RB') (NP agglutinated/JJ indian/JJ language/NN) ('however', 'RB') ('such', 'PDT') (NP an/DT approach/NN) ('is', 'VBZ') ('not', 'RB') ('possible', 'JJ') ('as', 'IN') (NP each/DT dictionary/JJ entry/NN) ('has', 'VBZ') ('thousands', 'NNS') ('of', 'IN') (NP possible/JJ word/NN) ('forms', 'NNS') ('partofspeech', 'VBP') ('tagging', 'VBG') ('given', 'VBN') (NP a/DT sentence/NN) (NP determine/NN) (NP the/DT part/NN) ('of', 'IN') (NP speech/NN) (NP pos/NN) ('for', 'IN') (NP each/DT word/NN) ('many', 'JJ') ('words', 'NNS') ('especially', 'RB') ('common', 'JJ') ('ones', 'NNS') ('can', 'MD') ('serve', 'VB') ('as', 'IN') ('multiple', 'JJ') ('parts', 'NNS') ('of', 'IN') (NP speech/NN) ('for', 'IN') (NP example/NN) (NP book/NN) ('can', 'MD') ('be', 'VB') ('a', 'DT') ('noun', 'JJ') (NP the/DT book/NN) ('on', 'IN') (NP the/DT table/NN) ('or', 'CC') (NP verb/NN) ('to', 'TO') (NP book/NN) (NP a/DT flight/NN) (NP set/NN) ('can', 'MD') ('be', 'VB') (NP a/DT noun/JJ verb/NN) ('or', 'CC') ('adjective', 'JJ') ('and', 'CC') ('out', 'RP') ('can', 'MD') ('be', 'VB') ('any', 'DT') ('of', 'IN') ('at', 'IN') ('least', 'JJS') ('five', 'CD') ('different', 'JJ') ('parts', 'NNS') ('of', 'IN') (NP speech/NN) ('some', 'DT') ('languages', 'NNS') ('have', 'VBP') ('more', 'JJR') (NP such/JJ ambiguity/NN) ('than', 'IN') ('others', 'NNS') ('[', 'VBP') ('dubious', 'JJ') ('–', 'NNP') (NP discuss/NN) (']', 'NNP') ('languages', 'VBZ') ('with', 'IN') (NP little/JJ inflectional/JJ morphology/NN) ('such', 'JJ') ('as', 'IN') ('english', 'JJ') ('are', 'VBP') ('particularly', 'RB') ('prone', 'JJ') ('to', 'TO') (NP such/JJ ambiguity/NN) (NP chinese/NN) ('is', 'VBZ') ('prone', 'JJ') ('to', 'TO') (NP such/JJ ambiguity/NN) ('because', 'IN') ('it', 'PRP') ('is', 'VBZ') (NP a/DT tonal/JJ language/NN) ('during', 'IN') (NP verbalization/NN) (NP such/JJ inflection/NN) ('is', 'VBZ') ('not', 'RB') ('readily', 'RB') ('conveyed', 'VBN') ('via', 'IN') ('the', 'DT') ('entities', 'NNS') ('employed', 'VBN') ('within', 'IN') (NP the/DT orthography/NN) ('to', 'TO') ('convey', 'VB') (NP the/DT intended/JJ meaning/NN) (NP parsing/NN) ('determine', 'VB') (NP the/DT parse/NN) (NP tree/JJ grammatical/JJ analysis/NN) ('of', 'IN') ('a', 'DT') ('given', 'VBN') (NP sentence/NN) (NP the/DT grammar/NN) ('for', 'IN') ('natural', 'JJ') ('languages', 'NNS') ('is', 'VBZ') ('ambiguous', 'JJ') ('and', 'CC') ('typical', 'JJ') ('sentences', 'NNS') ('have', 'VBP') ('multiple', 'VBN') ('possible', 'JJ') ('analyses', 'NNS') ('perhaps', 'RB') ('surprisingly', 'RB') ('for', 'IN') (NP a/DT typical/JJ sentence/NN) ('there', 'EX') ('may', 'MD') ('be', 'VB') ('thousands', 'NNS') ('of', 'IN') ('potential', 'JJ') ('parses', 'NNS') ('most', 'JJS') ('of', 'IN') ('which', 'WDT') ('will', 'MD') ('seem', 'VB') ('completely', 'RB') ('nonsensical', 'JJ') ('to', 'TO') ('a', 'DT') ('human', 'JJ') ('there', 'EX') ('are', 'VBP') ('two', 'CD') ('primary', 'JJ') ('types', 'NNS') ('of', 'IN') ('parsing', 'VBG') (NP dependency/NN) (NP parsing/NN) ('and', 'CC') (NP constituency/NN) ('parsing', 'VBG') (NP dependency/NN) ('parsing', 'VBG') ('focuses', 'NNS') ('on', 'IN') ('the', 'DT') ('relationships', 'NNS') ('between', 'IN') ('words', 'NNS') ('in', 'IN') (NP a/DT sentence/NN) ('marking', 'VBG') ('things', 'NNS') ('like', 'IN') ('primary', 'JJ') ('objects', 'NNS') ('and', 'CC') ('predicates', 'NNS') ('whereas', 'VBP') (NP constituency/NN) ('parsing', 'VBG') ('focuses', 'NNS') ('on', 'IN') ('building', 'VBG') ('out', 'RP') (NP the/DT parse/NN) (NP tree/NN) ('using', 'VBG') (NP a/DT probabilistic/JJ contextfree/NN) (NP grammar/NN) (NP pcfg/NN) (NP see/NN) ('also', 'RB') (NP stochastic/JJ grammar/NN) (NP sentence/NN) (NP breaking/NN) ('also', 'RB') ('known', 'VBN') ('as', 'IN') (NP sentence/NN) (NP boundary/JJ disambiguation/NN) ('given', 'VBN') (NP a/DT chunk/NN) ('of', 'IN') (NP text/NN) ('find', 'VBP') (NP the/DT sentence/NN) ('boundaries', 'NNS') (NP sentence/NN) ('boundaries', 'NNS') ('are', 'VBP') ('often', 'RB') ('marked', 'VBN') ('by', 'IN') ('periods', 'NNS') ('or', 'CC') (NP other/JJ punctuation/NN) ('marks', 'NNS') ('but', 'CC') ('these', 'DT') ('same', 'JJ') ('characters', 'NNS') ('can', 'MD') ('serve', 'VB') ('other', 'JJ') ('purposes', 'NNS') ('eg', 'VBP') ('marking', 'VBG') ('abbreviations', 'NNS') ('stemming', 'VBG') (NP the/DT process/NN) ('of', 'IN') ('reducing', 'VBG') ('inflected', 'VBN') ('or', 'CC') ('sometimes', 'RB') ('derived', 'JJ') ('words', 'NNS') ('to', 'TO') ('their', 'PRP$') (NP root/NN) (NP form/NN) (NP eg/NN) (NP close/NN) ('will', 'MD') ('be', 'VB') (NP the/DT root/NN) ('for', 'IN') ('closed', 'VBD') (NP closing/NN) ('close', 'RB') ('closer', 'RBR') (NP etc/JJ word/NN) (NP segmentation/NN) ('separate', 'VB') (NP a/DT chunk/NN) ('of', 'IN') (NP continuous/JJ text/NN) ('into', 'IN') ('separate', 'JJ') ('words', 'NNS') ('for', 'IN') (NP a/DT language/NN) ('like', 'IN') ('english', 'JJ') ('this', 'DT') ('is', 'VBZ') ('fairly', 'RB') ('trivial', 'JJ') ('since', 'IN') ('words', 'NNS') ('are', 'VBP') ('usually', 'RB') ('separated', 'VBN') ('by', 'IN') ('spaces', 'NNS') ('however', 'RB') ('some', 'DT') ('written', 'VBN') ('languages', 'NNS') ('like', 'IN') ('chinese', 'JJ') ('japanese', 'JJ') ('and', 'CC') ('thai', 'JJ') ('do', 'VBP') ('not', 'RB') ('mark', 'VB') (NP word/NN) ('boundaries', 'NNS') ('in', 'IN') ('such', 'JJ') (NP a/DT fashion/NN) ('and', 'CC') ('in', 'IN') ('those', 'DT') ('languages', 'NNS') ('text', 'VBP') (NP segmentation/NN) ('is', 'VBZ') (NP a/DT significant/JJ task/NN) ('requiring', 'VBG') (NP knowledge/NN) ('of', 'IN') ('the', 'DT') ('vocabulary', 'JJ') ('and', 'CC') (NP morphology/NN) ('of', 'IN') ('words', 'NNS') ('in', 'IN') (NP the/DT language/NN) ('sometimes', 'RB') (NP this/DT process/NN) ('is', 'VBZ') ('also', 'RB') ('used', 'VBN') ('in', 'IN') ('cases', 'NNS') ('like', 'IN') (NP bag/NN) ('of', 'IN') ('words', 'NNS') (NP bow/JJ creation/NN) ('in', 'IN') ('data', 'NNS') ('mining', 'VBG') (NP terminology/NN) (NP extraction/NN) (NP the/DT goal/NN) ('of', 'IN') (NP terminology/NN) (NP extraction/NN) ('is', 'VBZ') ('to', 'TO') ('automatically', 'RB') ('extract', 'VB') ('relevant', 'JJ') ('terms', 'NNS') ('from', 'IN') ('a', 'DT') ('given', 'VBN') (NP corpus/NN) ('semantics', 'NNS') ('[', 'VBP') (NP edit/NN) (']', 'NNP') ('lexical', 'JJ') ('semantics', 'NNS') ('what', 'WP') ('is', 'VBZ') (NP the/DT computational/JJ meaning/NN) ('of', 'IN') ('individual', 'JJ') ('words', 'NNS') ('in', 'IN') ('context', 'JJ') ('distributional', 'JJ') ('semantics', 'NNS') ('how', 'WRB') ('can', 'MD') ('we', 'PRP') ('learn', 'VB') ('semantic', 'JJ') ('representations', 'NNS') ('from', 'IN') ('data', 'NNS') (NP machine/NN) (NP translation/NN) ('automatically', 'RB') (NP translate/JJ text/NN) ('from', 'IN') ('one', 'CD') (NP human/JJ language/NN) ('to', 'TO') ('another', 'DT') ('this', 'DT') ('is', 'VBZ') ('one', 'CD') ('of', 'IN') ('the', 'DT') ('most', 'RBS') ('difficult', 'JJ') ('problems', 'NNS') ('and', 'CC') ('is', 'VBZ') (NP a/DT member/NN) ('of', 'IN') (NP a/DT class/NN) ('of', 'IN') ('problems', 'NNS') ('colloquially', 'RB') ('termed', 'VBD') (NP aicomplete/JJ ie/NN) ('requiring', 'VBG') ('all', 'DT') ('of', 'IN') ('the', 'DT') ('different', 'JJ') ('types', 'NNS') ('of', 'IN') (NP knowledge/NN) ('that', 'IN') ('humans', 'VBZ') (NP possess/JJ grammar/NN) ('semantics', 'NNS') ('facts', 'VBZ') ('about', 'IN') (NP the/DT real/JJ world/NN) (NP etc/NN) ('to', 'TO') ('solve', 'VB') ('properly', 'RB') ('named', 'VBN') (NP entity/NN) (NP recognition/NN) ('ner', 'RB') ('given', 'VBN') (NP a/DT stream/NN) ('of', 'IN') (NP text/NN) (NP determine/NN) ('which', 'WDT') ('items', 'NNS') ('in', 'IN') (NP the/DT text/NN) (NP map/NN) ('to', 'TO') ('proper', 'VB') ('names', 'NNS') ('such', 'JJ') ('as', 'IN') ('people', 'NNS') ('or', 'CC') ('places', 'NNS') ('and', 'CC') ('what', 'WP') (NP the/DT type/NN) ('of', 'IN') (NP each/DT such/JJ name/NN) ('is', 'VBZ') (NP eg/JJ person/NN) (NP location/NN) (NP organization/NN) ('although', 'IN') (NP capitalization/NN) ('can', 'MD') ('aid', 'VB') ('in', 'IN') ('recognizing', 'VBG') ('named', 'VBN') ('entities', 'NNS') ('in', 'IN') ('languages', 'NNS') ('such', 'JJ') ('as', 'IN') ('english', 'JJ') (NP this/DT information/NN) ('can', 'MD') ('not', 'RB') ('aid', 'VB') ('in', 'IN') ('determining', 'VBG') (NP the/DT type/NN) ('of', 'IN') ('named', 'VBN') (NP entity/NN) ('and', 'CC') ('in', 'IN') (NP any/DT case/NN) ('is', 'VBZ') ('often', 'RB') ('inaccurate', 'JJ') ('or', 'CC') ('insufficient', 'JJ') ('for', 'IN') (NP example/NN) (NP the/DT first/JJ letter/NN) ('of', 'IN') (NP a/DT sentence/NN) ('is', 'VBZ') ('also', 'RB') ('capitalized', 'VBN') ('and', 'CC') ('named', 'VBN') ('entities', 'NNS') ('often', 'RB') ('span', 'VBP') ('several', 'JJ') ('words', 'NNS') ('only', 'RB') ('some', 'DT') ('of', 'IN') ('which', 'WDT') ('are', 'VBP') ('capitalized', 'VBN') ('furthermore', 'RB') ('many', 'JJ') ('other', 'JJ') ('languages', 'NNS') ('in', 'IN') ('nonwestern', 'JJ') ('scripts', 'NNS') ('eg', 'VBP') ('chinese', 'JJ') ('or', 'CC') ('arabic', 'JJ') ('do', 'VBP') ('not', 'RB') ('have', 'VB') (NP any/DT capitalization/NN) ('at', 'IN') ('all', 'DT') ('and', 'CC') ('even', 'RB') ('languages', 'NNS') ('with', 'IN') (NP capitalization/NN) ('may', 'MD') ('not', 'RB') ('consistently', 'RB') ('use', 'VB') ('it', 'PRP') ('to', 'TO') ('distinguish', 'VB') ('names', 'NNS') ('for', 'IN') (NP example/NN) ('german', 'JJ') ('capitalizes', 'VBZ') (NP all/DT nouns/JJ regardless/NN) ('of', 'IN') ('whether', 'IN') ('they', 'PRP') ('are', 'VBP') ('names', 'NNS') ('and', 'CC') ('french', 'JJ') ('and', 'CC') ('spanish', 'JJ') ('do', 'VBP') ('not', 'RB') ('capitalize', 'VB') ('names', 'NNS') ('that', 'WDT') ('serve', 'VBP') ('as', 'IN') ('adjectives', 'NNS') (NP natural/JJ language/NN) (NP generation/NN) (NP convert/JJ information/NN) ('from', 'IN') (NP computer/NN) ('databases', 'NNS') ('or', 'CC') ('semantic', 'JJ') ('intents', 'NNS') ('into', 'IN') (NP readable/JJ human/JJ language/NN) (NP natural/JJ language/NN) ('understanding', 'VBG') ('convert', 'JJ') ('chunks', 'NNS') ('of', 'IN') (NP text/NN) ('into', 'IN') ('more', 'RBR') ('formal', 'JJ') ('representations', 'NNS') ('such', 'JJ') ('as', 'IN') (NP firstorder/NN) (NP logic/NN) ('structures', 'NNS') ('that', 'WDT') ('are', 'VBP') ('easier', 'JJR') ('for', 'IN') (NP computer/NN) ('programs', 'NNS') ('to', 'TO') ('manipulate', 'VB') (NP natural/JJ language/NN) ('understanding', 'VBG') ('involves', 'VBZ') (NP the/DT identification/NN) ('of', 'IN') ('the', 'DT') ('intended', 'VBN') (NP semantic/NN) ('from', 'IN') ('the', 'DT') ('multiple', 'JJ') ('possible', 'JJ') ('semantics', 'NNS') ('which', 'WDT') ('can', 'MD') ('be', 'VB') ('derived', 'VBN') ('from', 'IN') (NP a/DT natural/JJ language/NN) (NP expression/NN) ('which', 'WDT') ('usually', 'RB') ('takes', 'VBZ') (NP the/DT form/NN) ('of', 'IN') ('organized', 'JJ') ('notations', 'NNS') ('of', 'IN') (NP natural/JJ language/NN) ('concepts', 'NNS') (NP introduction/NN) ('and', 'CC') (NP creation/NN) ('of', 'IN') (NP language/NN) (NP metamodel/NN) ('and', 'CC') (NP ontology/NN) ('are', 'VBP') ('efficient', 'JJ') ('however', 'RB') ('empirical', 'JJ') ('solutions', 'NNS') (NP an/DT explicit/JJ formalization/NN) ('of', 'IN') (NP natural/JJ language/NN) ('semantics', 'NNS') ('without', 'IN') ('confusions', 'NNS') ('with', 'IN') ('implicit', 'JJ') ('assumptions', 'NNS') ('such', 'JJ') ('as', 'IN') (NP closedworld/NN) (NP assumption/NN) (NP cwa/NN) (NP vs/NN) (NP openworld/NN) (NP assumption/NN) ('or', 'CC') (NP subjective/JJ yesno/NN) (NP vs/NN) (NP objective/JJ truefalse/NN) ('is', 'VBZ') ('expected', 'VBN') ('for', 'IN') (NP the/DT construction/NN) ('of', 'IN') (NP a/DT basis/NN) ('of', 'IN') ('semantics', 'NNS') (NP formalization/NN) ('[', 'VBZ') ('15', 'CD') (NP ]/JJ optical/JJ character/NN) (NP recognition/NN) ('ocr', 'VBD') ('given', 'VBN') (NP an/DT image/NN) ('representing', 'VBG') ('printed', 'VBD') (NP text/JJ determine/NN) (NP the/DT corresponding/JJ text/JJ question/NN) ('answering', 'VBG') ('given', 'VBN') (NP a/DT humanlanguage/NN) (NP question/NN) ('determine', 'VB') ('its', 'PRP$') (NP answer/NN) ('typical', 'JJ') ('questions', 'NNS') ('have', 'VBP') (NP a/DT specific/JJ right/JJ answer/NN) ('such', 'JJ') ('as', 'IN') ('what', 'WP') ('is', 'VBZ') (NP the/DT capital/NN) ('of', 'IN') (NP canada/NN) ('but', 'CC') ('sometimes', 'RB') ('openended', 'JJ') ('questions', 'NNS') ('are', 'VBP') ('also', 'RB') ('considered', 'VBN') ('such', 'JJ') ('as', 'IN') ('what', 'WP') ('is', 'VBZ') (NP the/DT meaning/NN) ('of', 'IN') (NP life/NN) ('recent', 'JJ') ('works', 'NNS') ('have', 'VBP') ('looked', 'VBN') ('at', 'IN') ('even', 'RB') ('more', 'RBR') ('complex', 'JJ') ('questions', 'NNS') ('[', 'VBP') ('16', 'CD') (']', 'JJ') ('recognizing', 'VBG') (NP textual/JJ entailment/NN) ('given', 'VBN') ('two', 'CD') ('text', 'JJ') ('fragments', 'NNS') ('determine', 'VB') ('if', 'IN') ('one', 'CD') ('being', 'VBG') ('true', 'JJ') ('entails', 'NNS') ('the', 'DT') ('other', 'JJ') ('entails', 'VBZ') ('the', 'DT') ('other', 'JJ') (\"'s\", 'POS') (NP negation/NN) ('or', 'CC') ('allows', 'VBZ') ('the', 'DT') ('other', 'JJ') ('to', 'TO') ('be', 'VB') ('either', 'RB') ('true', 'JJ') ('or', 'CC') (NP false/JJ [/NN) ('17', 'CD') (NP ]/NN) ('given', 'VBN') (NP a/DT chunk/NN) ('of', 'IN') (NP text/NN) ('identify', 'VBP') ('the', 'DT') ('relationships', 'NNS') ('among', 'IN') ('named', 'JJ') ('entities', 'NNS') ('eg', 'VBP') ('who', 'WP') ('is', 'VBZ') ('married', 'VBN') ('to', 'TO') ('whom', 'WP') ('extract', 'VB') (NP subjective/JJ information/NN) ('usually', 'RB') ('from', 'IN') (NP a/DT set/NN) ('of', 'IN') ('documents', 'NNS') ('often', 'RB') ('using', 'VBG') ('online', 'JJ') ('reviews', 'NNS') ('to', 'TO') ('determine', 'VB') (NP polarity/NN) ('about', 'IN') ('specific', 'JJ') ('objects', 'NNS') ('it', 'PRP') ('is', 'VBZ') ('especially', 'RB') ('useful', 'JJ') ('for', 'IN') ('identifying', 'VBG') ('trends', 'NNS') ('of', 'IN') (NP public/JJ opinion/NN) ('in', 'IN') ('social', 'JJ') ('media', 'NNS') ('for', 'IN') ('marketing', 'VBG') ('given', 'VBN') (NP a/DT chunk/NN) ('of', 'IN') (NP text/NN) ('separate', 'JJ') ('it', 'PRP') ('into', 'IN') ('segments', 'NNS') ('each', 'DT') ('of', 'IN') ('which', 'WDT') ('is', 'VBZ') ('devoted', 'VBN') ('to', 'TO') (NP a/DT topic/NN) ('and', 'CC') ('identify', 'VB') (NP the/DT topic/NN) ('of', 'IN') (NP the/DT segment/NN) ('many', 'JJ') ('words', 'NNS') ('have', 'VBP') ('more', 'JJR') ('than', 'IN') ('one', 'CD') (NP meaning/NN) ('we', 'PRP') ('have', 'VBP') ('to', 'TO') ('select', 'VB') (NP the/DT meaning/NN) ('which', 'WDT') ('makes', 'VBZ') ('the', 'DT') ('most', 'RBS') (NP sense/NN) ('in', 'IN') (NP context/NN) ('for', 'IN') (NP this/DT problem/NN) ('we', 'PRP') ('are', 'VBP') ('typically', 'RB') ('given', 'VBN') (NP a/DT list/NN) ('of', 'IN') ('words', 'NNS') ('and', 'CC') ('associated', 'VBN') (NP word/NN) ('senses', 'VBZ') ('eg', 'VBP') ('from', 'IN') (NP a/DT dictionary/NN) ('or', 'CC') (NP an/DT online/JJ resource/NN) ('such', 'JJ') ('as', 'IN') (NP wordnet/NN) ('produce', 'VBP') (NP a/DT readable/JJ summary/NN) ('of', 'IN') (NP a/DT chunk/NN) ('of', 'IN') (NP text/NN) ('often', 'RB') ('used', 'VBD') ('to', 'TO') ('provide', 'VB') ('summaries', 'NNS') ('of', 'IN') (NP the/DT text/NN) ('of', 'IN') ('a', 'DT') ('known', 'VBN') (NP type/NN) ('such', 'JJ') ('as', 'IN') (NP research/NN) ('papers', 'NNS') ('articles', 'VBZ') ('in', 'IN') (NP the/DT financial/JJ section/NN) ('of', 'IN') (NP a/DT newspaper/NN) ('given', 'VBN') (NP a/DT sentence/NN) ('or', 'CC') ('larger', 'JJR') (NP chunk/NN) ('of', 'IN') (NP text/NN) (NP determine/NN) ('which', 'WDT') ('words', 'NNS') ('mentions', 'NNS') ('refer', 'VBP') ('to', 'TO') ('the', 'DT') ('same', 'JJ') ('objects', 'VBZ') ('entities', 'NNS') ('anaphora', 'IN') (NP resolution/NN) ('is', 'VBZ') (NP a/DT specific/JJ example/NN) ('of', 'IN') (NP this/DT task/NN) ('and', 'CC') ('is', 'VBZ') ('specifically', 'RB') ('concerned', 'VBN') ('with', 'IN') ('matching', 'VBG') ('up', 'RP') ('pronouns', 'NNS') ('with', 'IN') ('the', 'DT') ('nouns', 'NNS') ('or', 'CC') ('names', 'NNS') ('to', 'TO') ('which', 'WDT') ('they', 'PRP') ('refer', 'VBP') ('the', 'DT') ('more', 'RBR') (NP general/JJ task/NN) ('of', 'IN') (NP coreference/NN) (NP resolution/NN) ('also', 'RB') ('includes', 'VBZ') ('identifying', 'VBG') ('socalled', 'VBN') ('bridging', 'VBG') ('relationships', 'NNS') ('involving', 'VBG') ('referring', 'VBG') ('expressions', 'NNS') ('for', 'IN') (NP example/NN) ('in', 'IN') (NP a/DT sentence/NN) ('such', 'JJ') ('as', 'IN') ('he', 'PRP') ('entered', 'VBD') (NP john/NN) (\"'s\", 'POS') (NP house/NN) ('through', 'IN') (NP the/DT front/JJ door/NN) (NP the/DT front/NN) (NP door/NN) ('is', 'VBZ') ('a', 'DT') ('referring', 'VBG') (NP expression/NN) ('and', 'CC') (NP the/DT bridging/NN) (NP relationship/NN) ('to', 'TO') ('be', 'VB') ('identified', 'VBN') ('is', 'VBZ') (NP the/DT fact/NN) ('that', 'IN') (NP the/DT door/NN) ('being', 'VBG') ('referred', 'VBN') ('to', 'TO') ('is', 'VBZ') (NP the/DT front/JJ door/NN) ('of', 'IN') (NP john/NN) (\"'s\", 'POS') (NP house/NN) ('rather', 'RB') ('than', 'IN') ('of', 'IN') (NP some/DT other/JJ structure/NN) ('that', 'WDT') ('might', 'MD') ('also', 'RB') ('be', 'VB') ('referred', 'VBN') ('to', 'TO') ('this', 'DT') ('rubric', 'JJ') ('includes', 'VBZ') ('several', 'JJ') ('related', 'JJ') ('tasks', 'NNS') ('one', 'CD') (NP task/NN) ('is', 'VBZ') ('identifying', 'VBG') (NP the/DT discourse/NN) (NP structure/NN) ('of', 'IN') (NP a/DT connected/JJ text/NN) ('ie', 'VBZ') (NP the/DT nature/NN) ('of', 'IN') ('the', 'DT') ('discourse', 'JJ') ('relationships', 'NNS') ('between', 'IN') ('sentences', 'NNS') ('eg', 'VBP') (NP elaboration/NN) (NP explanation/NN) (NP contrast/NN) (NP another/DT possible/JJ task/NN) ('is', 'VBZ') ('recognizing', 'VBG') ('and', 'CC') ('classifying', 'VBG') (NP the/DT speech/NN) ('acts', 'VBZ') ('in', 'IN') (NP a/DT chunk/NN) ('of', 'IN') (NP text/JJ eg/NN) (NP yesno/JJ question/NN) (NP content/JJ question/NN) (NP statement/NN) (NP assertion/NN) (NP etc/NN)\n"
          ],
          "name": "stdout"
        }
      ]
    },
    {
      "cell_type": "code",
      "metadata": {
        "id": "h0orIkNAGKL8",
        "colab_type": "code",
        "colab": {}
      },
      "source": [
        ""
      ],
      "execution_count": 22,
      "outputs": []
    }
  ]
}