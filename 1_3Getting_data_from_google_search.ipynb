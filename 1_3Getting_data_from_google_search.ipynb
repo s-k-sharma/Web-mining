{
  "nbformat": 4,
  "nbformat_minor": 0,
  "metadata": {
    "colab": {
      "name": "1_3Getting data from google search.ipynb",
      "provenance": [],
      "authorship_tag": "ABX9TyPAmtm99yPuKsLVjnqQ0Kaf",
      "include_colab_link": true
    },
    "kernelspec": {
      "name": "python3",
      "display_name": "Python 3"
    }
  },
  "cells": [
    {
      "cell_type": "markdown",
      "metadata": {
        "id": "view-in-github",
        "colab_type": "text"
      },
      "source": [
        "<a href=\"https://colab.research.google.com/github/skssushil/Web-mining/blob/master/1_3Getting_data_from_google_search.ipynb\" target=\"_parent\"><img src=\"https://colab.research.google.com/assets/colab-badge.svg\" alt=\"Open In Colab\"/></a>"
      ]
    },
    {
      "cell_type": "code",
      "metadata": {
        "id": "tJBEpoj1Zs01",
        "colab_type": "code",
        "colab": {
          "base_uri": "https://localhost:8080/",
          "height": 85
        },
        "outputId": "6fd6337b-ce41-4976-f950-0e897b3cbfd6"
      },
      "source": [
        "import urllib.request\n",
        "from bs4 import BeautifulSoup\n",
        "import nltk\n",
        "import re\n",
        "import math\n",
        "import numpy as np\n",
        "from collections import Counter\n",
        "from nltk.stem import PorterStemmer\n",
        "from nltk.corpus import stopwords\n",
        "from nltk.tokenize import word_tokenize\n",
        "nltk.download('stopwords')\n",
        "nltk.download('punkt')\n",
        "stop_words = set(stopwords.words('english'))"
      ],
      "execution_count": 1,
      "outputs": [
        {
          "output_type": "stream",
          "text": [
            "[nltk_data] Downloading package stopwords to /root/nltk_data...\n",
            "[nltk_data]   Unzipping corpora/stopwords.zip.\n",
            "[nltk_data] Downloading package punkt to /root/nltk_data...\n",
            "[nltk_data]   Unzipping tokenizers/punkt.zip.\n"
          ],
          "name": "stdout"
        }
      ]
    },
    {
      "cell_type": "code",
      "metadata": {
        "id": "i1Fh0hy7Z8DL",
        "colab_type": "code",
        "colab": {}
      },
      "source": [
        "try:\n",
        "    from googlesearch import search\n",
        "except ImportError:\n",
        "    print(\"No module named 'google' found\")"
      ],
      "execution_count": 2,
      "outputs": []
    },
    {
      "cell_type": "code",
      "metadata": {
        "id": "-mgI54ZVaIJN",
        "colab_type": "code",
        "colab": {
          "base_uri": "https://localhost:8080/",
          "height": 54
        },
        "outputId": "2684b7c1-4cec-4126-c2da-4120f554b77f"
      },
      "source": [
        "from google.colab import files\n",
        "try:\n",
        "    from googlesearch import search\n",
        "except ImportError:\n",
        "    print(\"No module named 'google' found\")\n",
        "# to search\n",
        "query =[\"tutorial on datastructure\"]\n",
        "url=[]\n",
        "for j in search(query[0], tld=\"com\", num=5, stop=10, pause=2):\n",
        "  url.append(j)\n",
        "print(url)"
      ],
      "execution_count": 3,
      "outputs": [
        {
          "output_type": "stream",
          "text": [
            "['https://www.tutorialspoint.com/data_structures_algorithms/index.htm', 'https://www.tutorialspoint.com/data_structures_algorithms/data_structures_basics.htm', 'https://www.tutorialspoint.com/data_structures_algorithms/algorithms_basics.htm', 'https://www.tutorialspoint.com/data_structures_algorithms/graph_data_structure.htm', 'https://www.tutorialspoint.com/data_structures_algorithms/data_structure_overview.htm', 'https://www.geeksforgeeks.org/data-structures/', 'https://www.javatpoint.com/data-structure-tutorial', 'https://www.javatpoint.com/data-structure-interview-questions', 'https://www.javatpoint.com/data-structure-introduction', 'https://www.javatpoint.com/singly-linked-list']\n"
          ],
          "name": "stdout"
        }
      ]
    },
    {
      "cell_type": "code",
      "metadata": {
        "id": "q5_QIAO9aWWS",
        "colab_type": "code",
        "colab": {}
      },
      "source": [
        "doc=[]\n",
        "for k in url:\n",
        "  req = urllib.request.Request(k, headers={'User-Agent': 'Mozilla/5.0'})\n",
        "  data = urllib.request.urlopen(req).read()\n",
        "  html= data.decode()\n",
        "  soup = BeautifulSoup(html,features=\"lxml\")\n",
        "  for script in soup([\"script\", \"style\"]):\n",
        "    script.extract()\n",
        "  # get text\n",
        "  text = soup.get_text()\n",
        "  # break into lines and remove leading and trailing space on each\n",
        "  lines = (line.strip() for line in text.splitlines())\n",
        "  # break multi-headlines into a line each\n",
        "  chunks = (phrase.strip() for line in lines for phrase in line.split(\" \"))\n",
        "  # drop blank lines\n",
        "  text = '\\n'.join(chunk for chunk in chunks if chunk)\n",
        "  doc.append(text)"
      ],
      "execution_count": 4,
      "outputs": []
    },
    {
      "cell_type": "code",
      "metadata": {
        "id": "iKLfRWWGXX8z",
        "colab_type": "code",
        "colab": {}
      },
      "source": [
        "N=len(doc)"
      ],
      "execution_count": 5,
      "outputs": []
    },
    {
      "cell_type": "code",
      "metadata": {
        "id": "7yUGtJklXfdT",
        "colab_type": "code",
        "colab": {
          "base_uri": "https://localhost:8080/",
          "height": 34
        },
        "outputId": "733dde24-d945-4039-e25c-044de4aa7419"
      },
      "source": [
        "N"
      ],
      "execution_count": 6,
      "outputs": [
        {
          "output_type": "execute_result",
          "data": {
            "text/plain": [
              "10"
            ]
          },
          "metadata": {
            "tags": []
          },
          "execution_count": 6
        }
      ]
    },
    {
      "cell_type": "markdown",
      "metadata": {
        "id": "jXwJ4i4RL0uF",
        "colab_type": "text"
      },
      "source": [
        "##Preprocessing"
      ]
    },
    {
      "cell_type": "code",
      "metadata": {
        "id": "qRAeO8FLcTpH",
        "colab_type": "code",
        "colab": {}
      },
      "source": [
        "def convert_lower_case(data):\n",
        "  return np.char.lower(data)"
      ],
      "execution_count": 7,
      "outputs": []
    },
    {
      "cell_type": "code",
      "metadata": {
        "id": "U85U7yo8L6an",
        "colab_type": "code",
        "colab": {}
      },
      "source": [
        "def remove_string_special_characters(data):\n",
        "  # removes special characters with ' '\n",
        "  stripped = re.sub('[^a-zA-z\\s]', '', data)\n",
        "  stripped = re.sub('_', '', stripped)\n",
        "  # Change any white space to one space\n",
        "  stripped = re.sub('\\s+', ' ', stripped)\n",
        "  # Remove start and end white spaces\n",
        "  stripped = stripped.strip()\n",
        "  return stripped.lower()"
      ],
      "execution_count": 8,
      "outputs": []
    },
    {
      "cell_type": "code",
      "metadata": {
        "id": "cMpivZylMIUs",
        "colab_type": "code",
        "colab": {}
      },
      "source": [
        "def stemming(data):\n",
        "  stemmer= PorterStemmer()    \n",
        "  tokens = word_tokenize(str(data))\n",
        "  new_text = \"\"\n",
        "  for w in tokens:\n",
        "    new_text = new_text + \" \" + stemmer.stem(w)\n",
        "  return new_text"
      ],
      "execution_count": 9,
      "outputs": []
    },
    {
      "cell_type": "code",
      "metadata": {
        "id": "sp9AhwPfMPDI",
        "colab_type": "code",
        "colab": {}
      },
      "source": [
        "def convert_numbers(data):\n",
        "  tokens = word_tokenize(str(data))\n",
        "  new_text = \"\"\n",
        "  for w in tokens:\n",
        "    try:\n",
        "      w = num2words(int(w))\n",
        "    except:\n",
        "      a = 0\n",
        "      new_text = new_text + \" \" + w\n",
        "  new_text = np.char.replace(new_text, \"-\", \" \")\n",
        "  return new_text"
      ],
      "execution_count": 10,
      "outputs": []
    },
    {
      "cell_type": "code",
      "metadata": {
        "id": "zNUx4NRbMdIS",
        "colab_type": "code",
        "colab": {}
      },
      "source": [
        "# Stopword removal\n",
        "def remove_stop_words(data):\n",
        "    stop_words = stopwords.words('english')\n",
        "    words = word_tokenize(str(data))\n",
        "    new_text = \"\"\n",
        "    for w in words:\n",
        "        if w not in stop_words and len(w) > 1:\n",
        "            new_text = new_text + \" \" + w\n",
        "    return new_text"
      ],
      "execution_count": 11,
      "outputs": []
    },
    {
      "cell_type": "code",
      "metadata": {
        "id": "CTBg0kGwMiNL",
        "colab_type": "code",
        "colab": {}
      },
      "source": [
        "def preprocess(data):\n",
        "  Clean_data= remove_string_special_characters(data)  # removing special character\n",
        "  Clean_data=stemming(Clean_data)\n",
        "  Clean_data= convert_numbers(Clean_data)\n",
        "  Clean_data=remove_stop_words(Clean_data)\n",
        "  return Clean_data"
      ],
      "execution_count": 12,
      "outputs": []
    },
    {
      "cell_type": "markdown",
      "metadata": {
        "id": "WAP51A4HMnaY",
        "colab_type": "text"
      },
      "source": [
        "# preprocessing of data completed"
      ]
    },
    {
      "cell_type": "code",
      "metadata": {
        "id": "D9xnL9mPXnG-",
        "colab_type": "code",
        "colab": {}
      },
      "source": [
        "processed_text = []\n",
        "for i in doc[:N]:\n",
        "    processed_text.append(word_tokenize(str(preprocess(i))))"
      ],
      "execution_count": 13,
      "outputs": []
    },
    {
      "cell_type": "code",
      "metadata": {
        "id": "1uwcViQSXo2v",
        "colab_type": "code",
        "colab": {
          "base_uri": "https://localhost:8080/",
          "height": 34
        },
        "outputId": "233a3129-ac98-4eb5-fdc9-1e3939818d05"
      },
      "source": [
        "len(processed_text)"
      ],
      "execution_count": 14,
      "outputs": [
        {
          "output_type": "execute_result",
          "data": {
            "text/plain": [
              "10"
            ]
          },
          "metadata": {
            "tags": []
          },
          "execution_count": 14
        }
      ]
    },
    {
      "cell_type": "code",
      "metadata": {
        "id": "OeYFueMvXq02",
        "colab_type": "code",
        "colab": {}
      },
      "source": [
        "DF = {}\n",
        "for i in range(N):\n",
        "    tokens = processed_text[i]\n",
        "    for w in tokens:\n",
        "        try:\n",
        "            DF[w].add(i)\n",
        "        except:\n",
        "            DF[w] = {i}\n",
        "for i in DF:\n",
        "    DF[i] = len(DF[i])"
      ],
      "execution_count": 15,
      "outputs": []
    },
    {
      "cell_type": "code",
      "metadata": {
        "id": "r8W1hzSgXt1N",
        "colab_type": "code",
        "colab": {
          "base_uri": "https://localhost:8080/",
          "height": 34
        },
        "outputId": "068b7510-bdf3-46f6-ef22-ff0779528e69"
      },
      "source": [
        "total_vocab_size = len(DF)\n",
        "print(total_vocab_size)"
      ],
      "execution_count": 16,
      "outputs": [
        {
          "output_type": "stream",
          "text": [
            "1508\n"
          ],
          "name": "stdout"
        }
      ]
    },
    {
      "cell_type": "code",
      "metadata": {
        "id": "hiK0CaGuXyJP",
        "colab_type": "code",
        "colab": {}
      },
      "source": [
        "total_vocab = [x for x in DF]"
      ],
      "execution_count": 17,
      "outputs": []
    },
    {
      "cell_type": "code",
      "metadata": {
        "id": "1qNCS04zX6pc",
        "colab_type": "code",
        "colab": {
          "base_uri": "https://localhost:8080/",
          "height": 54
        },
        "outputId": "d6c0236a-4af6-4b66-94ec-1d770da57e8e"
      },
      "source": [
        "print(total_vocab[:20])"
      ],
      "execution_count": 18,
      "outputs": [
        {
          "output_type": "stream",
          "text": [
            "['data', 'structur', 'algorithm', 'tutori', 'tutorialspoint', 'home', 'job', 'tool', 'code', 'ground', 'current', 'affair', 'upsc', 'note', 'onlin', 'tutor', 'whiteboard', 'net', 'meet', 'tutorix']\n"
          ],
          "name": "stdout"
        }
      ]
    },
    {
      "cell_type": "code",
      "metadata": {
        "id": "isXzabrEX-_P",
        "colab_type": "code",
        "colab": {}
      },
      "source": [
        "def doc_freq(word):\n",
        "    c = 0\n",
        "    try:\n",
        "        c = DF[word]\n",
        "    except:\n",
        "        pass\n",
        "    return c"
      ],
      "execution_count": 19,
      "outputs": []
    },
    {
      "cell_type": "code",
      "metadata": {
        "id": "2iqL8s1JYDHj",
        "colab_type": "code",
        "colab": {}
      },
      "source": [
        "doc = 0\n",
        "tf_idf = {}\n",
        "df_score={}\n",
        "for i in range(N):\n",
        "  tokens = processed_text[i]    \n",
        "  counter = Counter(tokens)\n",
        "  words_count = len(tokens)    \n",
        "  for token in np.unique(tokens):\n",
        "    df_score[doc,token]=counter[token]/words_count\n",
        "    tf = counter[token]/words_count\n",
        "    df = doc_freq(token)\n",
        "    idf = np.log((N+1)/(df+1))        \n",
        "    tf_idf[doc, token] = tf*idf\n",
        "  doc += 1"
      ],
      "execution_count": 20,
      "outputs": []
    },
    {
      "cell_type": "code",
      "metadata": {
        "id": "m3IyzVniYGS-",
        "colab_type": "code",
        "colab": {}
      },
      "source": [
        "idf=sorted(df_score.items(), key=lambda x: x[1], reverse=True)\n",
        "tfidf=sorted(tf_idf.items(), key=lambda x: x[1], reverse=True)"
      ],
      "execution_count": 21,
      "outputs": []
    },
    {
      "cell_type": "code",
      "metadata": {
        "id": "Quhd_Dh_YrOC",
        "colab_type": "code",
        "colab": {
          "base_uri": "https://localhost:8080/",
          "height": 357
        },
        "outputId": "a1688899-f72d-4247-bd94-548fdc7e6d1f"
      },
      "source": [
        "idf[:20]"
      ],
      "execution_count": 22,
      "outputs": [
        {
          "output_type": "execute_result",
          "data": {
            "text/plain": [
              "[((1, 'dsa'), 0.09243697478991597),\n",
              " ((3, 'dsa'), 0.08870967741935484),\n",
              " ((1, 'data'), 0.08403361344537816),\n",
              " ((7, 'interview'), 0.07942079859587538),\n",
              " ((0, 'dsa'), 0.0763888888888889),\n",
              " ((2, 'algorithm'), 0.07053469852104664),\n",
              " ((4, 'dsa'), 0.06842923794712286),\n",
              " ((4, 'data'), 0.06687402799377916),\n",
              " ((8, 'data'), 0.06619593998234775),\n",
              " ((0, 'data'), 0.0625),\n",
              " ((6, 'program'), 0.06178707224334601),\n",
              " ((6, 'list'), 0.060836501901140684),\n",
              " ((6, 'link'), 0.058935361216730035),\n",
              " ((9, 'node'), 0.05256648113790971),\n",
              " ((2, 'dsa'), 0.05005688282138794),\n",
              " ((5, 'tree'), 0.048601558917927556),\n",
              " ((0, 'structur'), 0.043402777777777776),\n",
              " ((4, 'structur'), 0.041990668740279936),\n",
              " ((9, 'list'), 0.04143475572047001),\n",
              " ((8, 'structur'), 0.03971756398940865)]"
            ]
          },
          "metadata": {
            "tags": []
          },
          "execution_count": 22
        }
      ]
    },
    {
      "cell_type": "code",
      "metadata": {
        "id": "4o1bgo1OZrUC",
        "colab_type": "code",
        "colab": {
          "base_uri": "https://localhost:8080/",
          "height": 357
        },
        "outputId": "3ba8b872-0283-443b-a8aa-69a12aee6e08"
      },
      "source": [
        "tfidf[:20]"
      ],
      "execution_count": 23,
      "outputs": [
        {
          "output_type": "execute_result",
          "data": {
            "text/plain": [
              "[((1, 'dsa'), 0.05602935999389471),\n",
              " ((3, 'dsa'), 0.05377011160704412),\n",
              " ((0, 'dsa'), 0.046302040550510216),\n",
              " ((4, 'dsa'), 0.04147741113078364),\n",
              " ((6, 'ds'), 0.030728851497086578),\n",
              " ((2, 'dsa'), 0.0303412688931671),\n",
              " ((9, 'ptr'), 0.026515979267964507),\n",
              " ((5, 'articl'), 0.025012351651366165),\n",
              " ((9, 'node'), 0.023759267481855202),\n",
              " ((9, 'enter'), 0.023193851595080615),\n",
              " ((1, 'builtin'), 0.021488421330736453),\n",
              " ((9, 'locat'), 0.020644916564866934),\n",
              " ((2, 'step'), 0.02063085243273972),\n",
              " ((3, 'vertic'), 0.01907558129913557),\n",
              " ((4, 'entiti'), 0.018185920462165394),\n",
              " ((6, 'node'), 0.01718574614992613),\n",
              " ((9, 'null'), 0.016070290465433037),\n",
              " ((3, 'edg'), 0.015896317749279642),\n",
              " ((3, 'vertex'), 0.015717132872543477),\n",
              " ((5, 'cs'), 0.01485108379299866)]"
            ]
          },
          "metadata": {
            "tags": []
          },
          "execution_count": 23
        }
      ]
    },
    {
      "cell_type": "code",
      "metadata": {
        "id": "3_A82kWpZ8Hj",
        "colab_type": "code",
        "colab": {}
      },
      "source": [
        ""
      ],
      "execution_count": null,
      "outputs": []
    }
  ]
}