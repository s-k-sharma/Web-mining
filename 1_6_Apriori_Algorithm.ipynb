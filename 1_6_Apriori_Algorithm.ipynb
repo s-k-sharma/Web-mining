{
  "nbformat": 4,
  "nbformat_minor": 0,
  "metadata": {
    "colab": {
      "name": "1_6 Apriori Algorithm.ipynb",
      "provenance": [],
      "collapsed_sections": [],
      "authorship_tag": "ABX9TyM81YWYP0VYhnT11usvEvuD",
      "include_colab_link": true
    },
    "kernelspec": {
      "name": "python3",
      "display_name": "Python 3"
    },
    "accelerator": "TPU"
  },
  "cells": [
    {
      "cell_type": "markdown",
      "metadata": {
        "id": "view-in-github",
        "colab_type": "text"
      },
      "source": [
        "<a href=\"https://colab.research.google.com/github/skssushil/Web-mining/blob/master/1_6_Apriori_Algorithm.ipynb\" target=\"_parent\"><img src=\"https://colab.research.google.com/assets/colab-badge.svg\" alt=\"Open In Colab\"/></a>"
      ]
    },
    {
      "cell_type": "code",
      "metadata": {
        "id": "omjMnIj9wzq5",
        "colab_type": "code",
        "colab": {
          "base_uri": "https://localhost:8080/",
          "height": 85
        },
        "outputId": "461d62c3-a087-4751-df74-174ff66686dd"
      },
      "source": [
        "import nltk\n",
        "from nltk.util import ngrams\n",
        "import numpy as np\n",
        "from nltk.corpus import stopwords\n",
        "from nltk.tokenize import word_tokenize\n",
        "from nltk.stem import PorterStemmer\n",
        "from collections import Counter\n",
        "import pandas as pd\n",
        "import re\n",
        "nltk.download('punkt');\n",
        "nltk.download('stopwords');"
      ],
      "execution_count": 4,
      "outputs": [
        {
          "output_type": "stream",
          "text": [
            "[nltk_data] Downloading package punkt to /root/nltk_data...\n",
            "[nltk_data]   Package punkt is already up-to-date!\n",
            "[nltk_data] Downloading package stopwords to /root/nltk_data...\n",
            "[nltk_data]   Package stopwords is already up-to-date!\n"
          ],
          "name": "stdout"
        }
      ]
    },
    {
      "cell_type": "code",
      "metadata": {
        "id": "_F6csa1AyB_q",
        "colab_type": "code",
        "colab": {}
      },
      "source": [
        "# read in data\n",
        "corpus = []\n",
        "dataSetFilename = 'text1.txt'\n",
        "with open(dataSetFilename,'r') as file:\n",
        "  corpus=file.read()"
      ],
      "execution_count": 5,
      "outputs": []
    },
    {
      "cell_type": "code",
      "metadata": {
        "id": "BQjx8qKrxRsy",
        "colab_type": "code",
        "colab": {}
      },
      "source": [
        "N=len(corpus)"
      ],
      "execution_count": 6,
      "outputs": []
    },
    {
      "cell_type": "code",
      "metadata": {
        "id": "VAO5-5Efy0Hu",
        "colab_type": "code",
        "colab": {
          "base_uri": "https://localhost:8080/",
          "height": 34
        },
        "outputId": "397d0c4c-7a6b-4ba9-b1c3-612e9927b08a"
      },
      "source": [
        "N"
      ],
      "execution_count": 7,
      "outputs": [
        {
          "output_type": "execute_result",
          "data": {
            "text/plain": [
              "27715"
            ]
          },
          "metadata": {
            "tags": []
          },
          "execution_count": 7
        }
      ]
    },
    {
      "cell_type": "markdown",
      "metadata": {
        "id": "kmo3i_7h0DSc",
        "colab_type": "text"
      },
      "source": [
        "##Preprocessing "
      ]
    },
    {
      "cell_type": "code",
      "metadata": {
        "id": "6QFmPLz80FQO",
        "colab_type": "code",
        "colab": {}
      },
      "source": [
        "def convert_lower_case(data):\n",
        "  return np.char.lower(data)"
      ],
      "execution_count": 8,
      "outputs": []
    },
    {
      "cell_type": "code",
      "metadata": {
        "id": "N3RWg1lg0JXZ",
        "colab_type": "code",
        "colab": {}
      },
      "source": [
        "def remove_stop_words(data):\n",
        "  stop_words = stopwords.words('english')\n",
        "  words = word_tokenize(str(data))\n",
        "  new_text = \"\"\n",
        "  for w in words:\n",
        "    if w not in stop_words and len(w) > 1:\n",
        "      new_text = new_text + \" \" + w\n",
        "  return new_text"
      ],
      "execution_count": 9,
      "outputs": []
    },
    {
      "cell_type": "code",
      "metadata": {
        "id": "c2Qy3kgS0LLC",
        "colab_type": "code",
        "colab": {}
      },
      "source": [
        "def remove_punctuation(data):\n",
        "  symbols = \"!\\\"#$%&()*+-./:;<=>?@[\\]^_`{|}~\\n\"\n",
        "  for i in range(len(symbols)):\n",
        "    data = np.char.replace(data, symbols[i], ' ')\n",
        "    data = np.char.replace(data, \"  \", \" \")\n",
        "    data = np.char.replace(data, ',', '')\n",
        "  return data"
      ],
      "execution_count": 10,
      "outputs": []
    },
    {
      "cell_type": "code",
      "metadata": {
        "id": "_7LYQoNL0NI1",
        "colab_type": "code",
        "colab": {}
      },
      "source": [
        "def remove_apostrophe(data):\n",
        "  return np.char.replace(data, \"'\", \"\")"
      ],
      "execution_count": 11,
      "outputs": []
    },
    {
      "cell_type": "code",
      "metadata": {
        "id": "Pt1xZKHY0QLU",
        "colab_type": "code",
        "colab": {}
      },
      "source": [
        "def stemming(data):\n",
        "  stemmer= PorterStemmer()  \n",
        "  tokens = word_tokenize(str(data))\n",
        "  new_text = \"\"\n",
        "  for w in tokens:\n",
        "    new_text = new_text + \" \" + stemmer.stem(w)\n",
        "  return new_text"
      ],
      "execution_count": 12,
      "outputs": []
    },
    {
      "cell_type": "code",
      "metadata": {
        "id": "fSCT9pwG0SLx",
        "colab_type": "code",
        "colab": {}
      },
      "source": [
        "import inflect \n",
        "p = inflect.engine()   \n",
        "# convert number into words \n",
        "def convert_number(text): \n",
        "  temp_str = text.split() \n",
        "  new_string = []  \n",
        "  for word in temp_str:\n",
        "    if word.isdigit(): \n",
        "      temp = p.number_to_words(word) \n",
        "      new_string.append(temp) \n",
        "    else:\n",
        "      new_string.append(word) \n",
        "      temp_str = ' '.join(new_string) \n",
        "  return temp_str"
      ],
      "execution_count": 13,
      "outputs": []
    },
    {
      "cell_type": "code",
      "metadata": {
        "id": "jbIHw-FD0V70",
        "colab_type": "code",
        "colab": {}
      },
      "source": [
        "def preprocess(data):\n",
        "  data = convert_number(data)\n",
        "  data = convert_lower_case(data)\n",
        "  data = remove_punctuation(data) #remove comma seperately\n",
        "  data = remove_apostrophe(data)\n",
        "  data = remove_stop_words(data)\n",
        "  data = stemming(data)\n",
        "  data = remove_punctuation(data)\n",
        "  data = stemming(data) #needed again as we need to stem the words\n",
        "  data = remove_punctuation(data) #needed again as num2word is giving few hypens and commas fourty-one\n",
        "  data = remove_stop_words(data) #needed again as num2word is giving stop words 101 - one hundred and one\n",
        "  data = convert_number(data)\n",
        "  return data"
      ],
      "execution_count": 14,
      "outputs": []
    },
    {
      "cell_type": "code",
      "metadata": {
        "id": "NFFlBZ7O0YNi",
        "colab_type": "code",
        "colab": {}
      },
      "source": [
        "tokens=word_tokenize(preprocess(corpus))"
      ],
      "execution_count": 15,
      "outputs": []
    },
    {
      "cell_type": "code",
      "metadata": {
        "id": "on67CsQkrYLq",
        "colab_type": "code",
        "colab": {
          "base_uri": "https://localhost:8080/",
          "height": 71
        },
        "outputId": "0157018e-059f-46f0-96e4-3e0167ebb43b"
      },
      "source": [
        "print(\" Vocabs \"\"\\n\",*tokens)"
      ],
      "execution_count": 16,
      "outputs": [
        {
          "output_type": "stream",
          "text": [
            " Vocabs \n",
            " emma woodhou handsom clever rich comfort home happi disposit seem unit best bless exist live nearli twenti one year world littl distress vex youngest two daughter affect indulg father consequ sister marriag mistress hou earli period mother die long ago indistinct remembr caress place suppli excel woman gover fallen littl short mother affect sixteen year miss taylor mr woodhou famili less gover friend fond daughter particularli emma intimaci sister even miss taylor cea hold nomin offic gover mild temper hardli allow impo restraint shadow author long pass away live togeth friend friend mutual attach emma like highli esteem miss taylor judgment direct chiefli real evil ind emma situat power rather much way disposit think littl well disadvantag threaten alloy mani enjoy danger howev present unperceiv mean rank misfortun sorrow came—a gentl sorrow—but shape disagr consciou —miss taylor marri miss taylor loss first brought grief wed day belov friend emma first sat mourn thought continu wed bride peopl gone father left dine togeth prospect third cheer long even father compo sleep dinner usual sit think lost event everi promi happi friend mr weston man unexcept charact easi fortun suitabl age pleasant manner satisfact consid self deni gener friendship alway wish promot match black morn work want miss taylor would felt everi hour everi day recal past kindness—th kind affect sixteen years—how taught play five year old—how devot power attach amu health—and nur variou ill childhood larg debt gratitud owe intercour last seven year equal foot perfect unreserv soon follow isabella marriag left yet dearer tender recollect friend companion possess intellig well inform use gentl know way famili interest concern peculiarli interest everi pleasur everi scheme hers—on could speak everi thought aro affect could never find fault bear chang —it true friend go half mile emma awar great must differ mr weston half mile miss taylor hou advantag natur domest great danger suffer intellectu solitud dearli love father companion could meet conver ration play evil actual dispar age mr woodhou marri earli much increa constitut habit valetudinarian life without activ mind bodi much older man way year though everywh belov friendli heart amiabl temper talent could recommend time sister though compar littl remov matrimoni settl london sixteen mile much beyond daili reach mani long octob novemb even must struggl hartfield christma brought next visit isabella husband littl children fill hou give pleasant societi highburi larg popul villag almost amount town hartfield spite separ lawn shrubberi name realli belong afford equal woodhou first consequ look mani acquaint place father univ civil one among could accept lieu miss taylor even half day melancholi chang emma could sigh wish imposs thing till father awok made necessari cheer spirit requir support nervou man easili depress fond everi bodi use hate part hate chang everi kind matrimoni origin chang alway disagr mean yet reconcil daughter marri could ever speak compass though entir match affect oblig part miss taylor habit gentl selfish never abl suppo peopl could feel differ much dispo think miss taylor done sad thing would great deal happier spent rest life hartfield emma smile chat cheer could keep thought tea came imposs say exactli said dinner poor miss taylor —i wish piti mr weston ever thought agr papa know mr weston good humour pleasant excel man thoroughli deserv good wife —and would miss taylor live us ever bear odd humour might hou hou —but advantag hou three time larg —and never odd humour dear often shall go see come see us —we shall alway meet must begin must go pay wed visit soon dear get far randal distanc could walk half far papa nobodi thought walk must go carriag sure carriag jame like put hor littl way —and poor hor pay visit put mr weston stabl papa know settl alreadi talk mr weston last night jame may sure alway like go randal daughter housemaid doubt whether ever take us anywh el papa got hannah good place nobodi thought hannah till mention her—jam oblig glad think lucki would poor jame think slight upon account sure make good servant civil pretti spoken girl great opinion whenev see alway curtsey ask pretti manner needlework observ alway turn lock door right way never bang sure excel servant great comfort poor miss taylor somebodi use see whenev jame goe see daughter know hear us abl tell emma spare exert maintain happier flow idea hope help backgammon get father toler even attack regret backgammon tabl place visitor immedi afterward walk made unnecessari mr knightley sensibl man seven eight thirti old intim friend famili particularli connect elder brother isabella husband live mile highburi frequent visitor alway welcom time welcom usual come directli mutual connexion london return late dinner day absenc walk hartfield say well brunswick squar happi circumst anim mr woodhou time mr knightley cheer manner alway good mani inquiri poor isabella children answer satisfactorili mr woodhou grate observ kind mr knightley come late hour call upon us afraid must shock walk sir beauti moonlight night mild must draw back great fire must found damp dirti wish may catch cold dirti sir look shoe speck well quit surpri vast deal rain rain dread hard half hour breakfast want put wed bye—i wish joy pretti well awar sort joy must feel hurri congratul hope went toler well behav cri ah poor miss taylor ti sad busi poor mr miss woodhou plea possibl say poor miss taylor great regard emma come question depend independ —at rate must better one plea two especi one two fanci troublesom creatur said emma play head know—and would certainli say father believ true dear ind said mr woodhou sigh afraid sometim fanci troublesom dearest papa think could mean suppo mr knightley mean horribl idea oh meant mr knightley love find fault know—in joke—it joke alway say like one anoth mr knightley fact one peopl could see fault emma woodhou one ever told though particularli agreeabl emma knew would much less father would realli suspect circumst thought perfect everi bodi emma know never flatter said mr knightley meant reflect bodi miss taylor use two person plea one chanc must gainer well said emma let pass— want hear wed shall happi tell behav charmingli everi bodi punctual everi bodi best look tear hardli long face seen oh felt go half mile apart sure meet everi day dear emma bear everi thing well said father mr knightley realli sorri lose poor miss taylor sure miss think emma turn away head divid tear smile imposs emma miss companion said mr knightley like well sir could suppo know much marriag miss taylor advantag know accept must miss taylor time life settl home import secur comfort provi therefor allow feel much pain pleasur everi friend miss taylor must glad happili marri forgotten one matter joy said emma consid one—that made match made match know four year ago take place prove right mani peopl said mr weston would never marri may comfort thing mr knightley shook head father fondli repli ah dear wish would make match foretel thing whatev say alway come pass pray make match promi make none papa must ind peopl greatest amu world success know —everi bodi said mr weston would never marri oh dear mr weston widow long seem perfectli comfort without wife constantli occupi either busi town among friend alway accept wherev went alway cheerful—mr weston need spend singl even year alon like oh mr weston certainli would never marri peopl even talk promi wife deathb son uncl let manner solemn nonsen talk subject believ none ever sinc day—about four year ago—that miss taylor met broadway lane began drizzl dart away much gallantri borrow two umbrella us farmer mitchel made mind subject plan match hour success bless instanc dear papa think shall leav match make understand mean success said mr knightley success suppo endeavour time properli delic spent endeavour last four year bring marriag worthi employ young ladi mind rather imagin make match call mean plan say one idl day think would good thing miss taylor mr weston marri say everi afterward talk success merit proud made lucki guess said never known pleasur triumph lucki guess —i piti —i thought cleverer—for depend upon lucki guess never mere luck alway talent poor word success quarrel know entir without claim drawn two pretti pictur think may third—a someth noth promot mr weston visit given mani littl encourag smooth mani littl matter might come thing think must know hartfield enough comprehend straightforward open heart man like weston ration unaffect woman like miss taylor may safe left manag concern like done harm good interf emma never think good rejoin mr woodhou understand part dear pray make match silli thing break one famili circl grievou one papa mr elton poor mr elton like mr elton papa—i must look wife nobodi highburi deserv him—and whole year fit hou comfort would shame singl longer—and thought join hand day look much would like kind offic done think well mr elton way servic mr elton pretti young man sure good young man great regard want shew attent dear ask come dine us day much better thing dare say mr knightley kind meet great deal pleasur sir time said mr knightley laugh agr entir much better thing invit dinner emma help best fish chicken leav chuse wife depend upon man six seven twenti take care mr weston nativ highburi born respect famili last two three gener rise gentil properti receiv good educ succeed earli life small independ becom indispo home pursuit brother engag satisfi activ cheer mind social temper enter militia counti embodi captain weston gener favourit chanc militari life introduc miss churchil great yorkshir famili miss churchil fell love nobodi surpriz except brother wife never seen full pride import connexion would offend miss churchil howev age full command fortune—though fortun bore proport famili estate—wa dissuad marriag took place infinit mortif mr mr churchil threw due decorum unsuit connexion produc much happi mr weston ought found husband whose warm heart sweet temper made think everi thing due return great good love though one sort spirit best resolut enough pursu spite brother enough refrain unreason regret brother unreason anger miss luxuri former home live beyond incom still noth comparison enscomb cea love husband want wife captain weston miss churchil enscomb captain weston consid especi churchil make amaz match prove much worst bargain wife die three year marriag rather poorer man first child maintain expen child howev soon reliev boy addit soften claim linger ill mother mean sort reconcili mr mr churchil children young creatur equal kindr care offer take whole charg littl frank soon decea scrupl reluct widow father may suppo felt overcom consid child given care wealth churchil comfort seek situat improv could complet chang life becam desir quit militia engag trade brother alreadi establish good way london afford favour open concern brought employ enough still small hou highburi leisur day spent use occup pleasur societi next eighteen twenti year life pass cheer away time reali easi competence—enough secur purcha littl estat adjoin highburi alway long for—enough marri woman portionless even miss taylor live accord wish friendli social disposit time sinc miss taylor begun influenc scheme tyrann influenc youth youth shaken determin never settl till could purcha randal sale randal long look forward gone steadili object view till accomplish made fortun bought hou obtain wife begin new period exist everi probabl greater happi yet pass never unhappi man temper secur even first marriag second must shew delight well judg truli amiabl woman could must give pleasantest proof great deal better choo chosen excit gratitud feel plea choic fortun frank tacitli brought uncl heir becom avow adopt assum name churchil come age unlik therefor ever want father assist father apprehen aunt caprici woman govern husband entir mr weston natur imagin capric could strong enough affect one dear believ deservedli dear saw son everi year london proud fond report fine young man made highburi feel sort pride look suffici belong place make merit prospect kind common concern mr frank churchil one boast highburi live curio see prevail though compliment littl return never life come visit father often talk never achiev upon father marriag gener propo proper attent visit take place dissenti voic subject either mr perri drank tea mr miss bate mr miss bate return visit time mr frank churchil come among hope strengthen understood written new mother occa day everi morn visit highburi includ mention handsom letter mr weston receiv suppo heard handsom letter mr frank churchil written mr weston understand handsom letter ind mr woodhou told mr woodhou saw letter say never saw handsom letter life ind highli prize letter mr weston cour form favour idea young man plea attent irresist proof great good sen welcom addit everi sourc everi express congratul marriag alreadi secur felt fortun woman live long enough know fortun might well thought regret partial separ friend whose friendship never cool could ill bear part knew time must miss could think without pain emma lose singl pleasur suffer hour ennui want companion dear emma feebl charact equal situat girl would sen energi spirit might hope would bear well happili littl difficulti privat comfort easi distanc randal hartfield conveni even solitari femal walk mr weston disposit circumst would make approach season hindranc spend half even week togeth situat altogeth subject hour gratitud mr weston moment regret satisfaction—h satisfaction—h cheer enjoy appar emma well knew father sometim taken surpriz still abl piti poor miss taylor left randal centr everi domest comfort saw go away even attend pleasant husband carriag never go without mr woodhou give gentl sigh say ah poor miss taylor would glad stay recov miss taylor—nor much likelihood cea piti week brought allevi mr woodhou compliment neighbour longer tea wish joy sorrow event wed cake great distress eat stomach could bear noth rich could never believ peopl differ unwholesom regard unfit bodi therefor earnestli tri dissuad wed cake prove vain earnestli tri prevent bodi eat pain consult mr perri apothecari subject mr perri intellig gentlemanlik man whose frequent visit one comfort mr woodhou life upon appli could acknowledg though seem rather bia inclin wed cake might certainli disagr many—perhap peopl unless taken moder opinion confirm mr woodhou hope influenc everi visitor newli marri pair still cake eaten rest benevol nerv till gone strang rumour highburi littl perri seen slice mr weston wed cake hand mr woodhou would never believ\n"
          ],
          "name": "stdout"
        }
      ]
    },
    {
      "cell_type": "markdown",
      "metadata": {
        "id": "tyq89GrQPJV8",
        "colab_type": "text"
      },
      "source": [
        "##Apriori"
      ]
    },
    {
      "cell_type": "code",
      "metadata": {
        "id": "cNbTIqw48Zb5",
        "colab_type": "code",
        "colab": {}
      },
      "source": [
        "def createCandidateSet(data):\n",
        "\tcand = []\n",
        "\tfor row in data:\n",
        "\t\tfor itm in row:\n",
        "\t\t\tif [itm] not in cand:\n",
        "\t\t\t\tcand.append([itm])\n",
        "\tcand.sort()\n",
        "\treturn list(map(frozenset,cand))"
      ],
      "execution_count": 17,
      "outputs": []
    },
    {
      "cell_type": "code",
      "metadata": {
        "id": "PV-_B6-W8Z8o",
        "colab_type": "code",
        "colab": {}
      },
      "source": [
        "def scanData(data, candidateSet, minSupport):\n",
        "\tsubsetCount = {}\n",
        "\tfor curSet in data:\n",
        "\t\tfor cand in candidateSet:\n",
        "\t\t\tif cand.issubset(curSet):\n",
        "\t\t\t\tif not cand in subsetCount:\n",
        "\t\t\t\t\tsubsetCount[cand] = 1\n",
        "\t\t\t\telse:\n",
        "\t\t\t\t\tsubsetCount[cand] += 1\n",
        "\tn = float(len(data))\n",
        "\tvalid = []\n",
        "\tfor key in subsetCount:\n",
        "\t\tsup = subsetCount[key]\n",
        "\t\tif sup >= minSupport:\n",
        "\t\t\tvalid.insert(0,key)\n",
        "\treturn valid, subsetCount"
      ],
      "execution_count": 18,
      "outputs": []
    },
    {
      "cell_type": "code",
      "metadata": {
        "id": "imIpafAe8eTo",
        "colab_type": "code",
        "colab": {}
      },
      "source": [
        "def genApriori(freqSets, k):\n",
        "\tvalid = []\n",
        "\tnFreqSets = len(freqSets)\n",
        "\tfor i in range(nFreqSets):\n",
        "\t\tfor j in range(i+1, nFreqSets):\n",
        "\t\t\tlstCands1 = list(freqSets[i])[:k-2]\n",
        "\t\t\tlstCands2 = list(freqSets[j])[:k-2]\n",
        "\t\t\tlstCands1.sort()\n",
        "\t\t\tlstCands2.sort()\n",
        "\t\t\t# if first k-2 elements are equal\n",
        "\t\t\tif lstCands1 == lstCands2:\n",
        "\t\t\t\tvalid.append(freqSets[i]|freqSets[j]) # union \n",
        "\treturn valid"
      ],
      "execution_count": 19,
      "outputs": []
    },
    {
      "cell_type": "code",
      "metadata": {
        "id": "Wewl35tN8gbp",
        "colab_type": "code",
        "colab": {}
      },
      "source": [
        "def apriori(data, minSupport):\n",
        "\tcandSet = createCandidateSet(data)\n",
        "\tsetData = list(map(set,data))\n",
        "\tlstCands, subsetCounts = scanData(setData,candSet,minSupport)\n",
        "\tlstCands = [lstCands]\n",
        "\tk = 2\n",
        "\twhile(len(lstCands[k-2]) > 0):\n",
        "\t\tcandSetX = genApriori(lstCands[k-2],k)\n",
        "\t\tlstCandsX, subsetCountsX = scanData(setData,candSetX, minSupport)\n",
        "\t\tsubsetCounts.update(subsetCountsX)\n",
        "\t\tlstCands.append(candSetX)\n",
        "\t\tk += 1\n",
        "\treturn lstCands, subsetCounts"
      ],
      "execution_count": 20,
      "outputs": []
    },
    {
      "cell_type": "code",
      "metadata": {
        "id": "J-N6K6Or8iky",
        "colab_type": "code",
        "colab": {}
      },
      "source": [
        "# read in data\n",
        "data = []\n",
        "dataSetFilename = 'text.txt'\n",
        "with open(dataSetFilename,'r') as file:\n",
        "\tfor line in file:\n",
        "\t\tdata.append(line.strip().split(','))"
      ],
      "execution_count": 21,
      "outputs": []
    },
    {
      "cell_type": "code",
      "metadata": {
        "id": "Zq0z624f8kov",
        "colab_type": "code",
        "colab": {
          "base_uri": "https://localhost:8080/",
          "height": 51
        },
        "outputId": "b66e060b-3cc4-4a32-d761-6edbeba38494"
      },
      "source": [
        "print(\"What min. support do you want to use? \")\n",
        "minSupp = input()\n",
        "minSupp = int(minSupp)"
      ],
      "execution_count": 22,
      "outputs": [
        {
          "output_type": "stream",
          "text": [
            "What min. support do you want to use? \n",
            "2\n"
          ],
          "name": "stdout"
        }
      ]
    },
    {
      "cell_type": "code",
      "metadata": {
        "id": "iN2Y1xyj8nMk",
        "colab_type": "code",
        "colab": {
          "base_uri": "https://localhost:8080/",
          "height": 476
        },
        "outputId": "493dd94e-aa56-418c-d672-d8c1e3a209bc"
      },
      "source": [
        "print(\"\\n**** Apriori with minSupport = {} ****\".format(minSupp))\n",
        "# call apriori\n",
        "sets, counts = apriori(data,minSupp)\n",
        "print(\"\\nSets:\")\n",
        "\"\"\"for x in sets:\n",
        "\tfor y in x:\n",
        "\t\tprint(y)\"\"\"\n",
        "print(\"\\n Most Frequent items of size upto 5: \\n\")\n",
        "for k,v in sorted(counts.items(), reverse=True, key=lambda tup: tup[1])[:20]:\n",
        "\tprint(k, v)"
      ],
      "execution_count": 25,
      "outputs": [
        {
          "output_type": "stream",
          "text": [
            "\n",
            "**** Apriori with minSupport = 2 ****\n",
            "\n",
            "Sets:\n",
            "\n",
            " Most Frequent items of size upto 5: \n",
            "\n",
            "frozenset({'BabyRuth'}) 49\n",
            "frozenset({'Snickers'}) 47\n",
            "frozenset({'Hershey'}) 43\n",
            "frozenset({'AlmondJoy'}) 41\n",
            "frozenset({'KitKat'}) 40\n",
            "frozenset({'Snickers', 'Hershey'}) 40\n",
            "frozenset({'Snickers', 'BabyRuth'}) 40\n",
            "frozenset({'Hershey', 'BabyRuth'}) 39\n",
            "frozenset({'Snickers', 'Hershey', 'BabyRuth'}) 36\n",
            "frozenset({'HeathBar'}) 35\n",
            "frozenset({'Twix'}) 35\n",
            "frozenset({'MilkyWay'}) 34\n",
            "frozenset({'Snickers', 'KitKat'}) 34\n",
            "frozenset({'Cotton Candy'}) 33\n",
            "frozenset({'KitKat', 'BabyRuth'}) 33\n",
            "frozenset({'Cadbury'}) 32\n",
            "frozenset({'Snickers', 'AlmondJoy'}) 32\n",
            "frozenset({'AlmondJoy', 'BabyRuth'}) 31\n",
            "frozenset({'Hershey', 'KitKat'}) 30\n",
            "frozenset({'AlmondJoy', 'Hershey'}) 29\n"
          ],
          "name": "stdout"
        }
      ]
    },
    {
      "cell_type": "code",
      "metadata": {
        "id": "brK_tZu88qsG",
        "colab_type": "code",
        "colab": {}
      },
      "source": [
        ""
      ],
      "execution_count": null,
      "outputs": []
    }
  ]
}